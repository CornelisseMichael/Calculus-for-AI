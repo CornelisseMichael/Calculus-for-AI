{
  "nbformat": 4,
  "nbformat_minor": 0,
  "metadata": {
    "colab": {
      "name": "Practical2.ipynb",
      "provenance": [],
      "collapsed_sections": []
    },
    "kernelspec": {
      "name": "python3",
      "display_name": "Python 3"
    }
  },
  "cells": [
    {
      "cell_type": "markdown",
      "metadata": {
        "id": "jwaNtNeRxAwQ"
      },
      "source": [
        "# Practical 2: Sets and functions\n",
        "\n",
        "In mathematics, a set is a collection of unique objects without an order. For example, the sets $\\{0,1,2\\}$ and \\{1,0,2\\} are identical. Futhermore, since each element in a set is unique, the set $\\{0,0,1,2\\}$ is identical to \\{0,1,2\\}.\n",
        "\n",
        "## Sets\n",
        "\n",
        "Python has a set data structure that encodes those important properties of mathematical sets. A Python set can be defined as follows:"
      ]
    },
    {
      "cell_type": "code",
      "metadata": {
        "id": "hUNqkhTemEg2"
      },
      "source": [
        "A = {0,1,2}"
      ],
      "execution_count": null,
      "outputs": []
    },
    {
      "cell_type": "markdown",
      "metadata": {
        "id": "qMd3k4cqoXTP"
      },
      "source": [
        "Python sets do not store the order and remove duplications, for example:"
      ]
    },
    {
      "cell_type": "code",
      "metadata": {
        "id": "4I9pFsNWof4S",
        "outputId": "b41300e4-d9e6-407e-a95f-ba01aabcc771",
        "colab": {
          "base_uri": "https://localhost:8080/",
          "height": 52
        }
      },
      "source": [
        "A = {0,1,2}\n",
        "B = {1,0,2}\n",
        "\n",
        "print(A == B)\n",
        "\n",
        "A = {0,0,1,2}\n",
        "B = {0,1,2}\n",
        "\n",
        "print(A == B)"
      ],
      "execution_count": null,
      "outputs": [
        {
          "output_type": "stream",
          "text": [
            "True\n",
            "True\n"
          ],
          "name": "stdout"
        }
      ]
    },
    {
      "cell_type": "markdown",
      "metadata": {
        "id": "ZSyA-dATmLWK"
      },
      "source": [
        "You can also define the set of all numbers satisfieng a given property, for example, this is the set of all the positive integers smaller than 20 divisible by 4:"
      ]
    },
    {
      "cell_type": "code",
      "metadata": {
        "id": "8GHaxSQEmSe-",
        "outputId": "b39159a2-9a72-4dd6-ad8c-4ae7e5382098",
        "colab": {
          "base_uri": "https://localhost:8080/",
          "height": 35
        }
      },
      "source": [
        "A = {a for a in range(20) if a % 4 == 0}\n",
        "\n",
        "print(A)"
      ],
      "execution_count": null,
      "outputs": [
        {
          "output_type": "stream",
          "text": [
            "{0, 4, 8, 12, 16}\n"
          ],
          "name": "stdout"
        }
      ]
    },
    {
      "cell_type": "markdown",
      "metadata": {
        "id": "LKo1E19GnYD6"
      },
      "source": [
        "where $a$ % $b$ is remainder of $a$ when divided by $b$.\n",
        "\n",
        "### Solved exercise 1\n",
        "Using Python, create the set of all prime numbers smaller than 30. Remember that a prime number is defined as a number only divisible by 1 and by itself.\n",
        "\n",
        "#### Solution\n",
        "We can check if a number is prime by dividing it from all numbers smaller than itself and checking that the remainder is always different from 0. Let's define this primality check function as follows:"
      ]
    },
    {
      "cell_type": "code",
      "metadata": {
        "id": "boZlXAKkxve3",
        "outputId": "7c3cc98c-066e-46ba-e8ca-a8c92a9cd365",
        "colab": {
          "base_uri": "https://localhost:8080/",
          "height": 35
        }
      },
      "source": [
        "def is_prime(n):\n",
        "  for k in range(2,n):\n",
        "    if n % k == 0:\n",
        "      return False\n",
        "  return True\n",
        "\n",
        "is_prime(10)\n"
      ],
      "execution_count": null,
      "outputs": [
        {
          "output_type": "execute_result",
          "data": {
            "text/plain": [
              "False"
            ]
          },
          "metadata": {
            "tags": []
          },
          "execution_count": 4
        }
      ]
    },
    {
      "cell_type": "markdown",
      "metadata": {
        "id": "NXQX8tqLpysZ"
      },
      "source": [
        "We can now use this function to create the set of primes smaller than 30:"
      ]
    },
    {
      "cell_type": "code",
      "metadata": {
        "id": "pZjaE9AmltOx",
        "outputId": "96fd93f1-534b-41de-a7de-0a8e134024b5",
        "colab": {
          "base_uri": "https://localhost:8080/",
          "height": 35
        }
      },
      "source": [
        "primes = {p for p in range(2,30) if is_prime(p)}\n",
        "print(\"The primes smaller than 30 are {}\".format(primes))"
      ],
      "execution_count": null,
      "outputs": [
        {
          "output_type": "stream",
          "text": [
            "The primes smaller than 30 are {2, 3, 5, 7, 11, 13, 17, 19, 23, 29}\n"
          ],
          "name": "stdout"
        }
      ]
    },
    {
      "cell_type": "markdown",
      "metadata": {
        "id": "rIwkH_WRqM0m"
      },
      "source": [
        "### Exercises 1\n",
        "- Using Python, create the set of all integers smaller than 30 and divisible by 6\n",
        "- Using Python, create the set of all square numbers smaller than 40\n",
        "- Using Python, create the set of all cube numbers smaller than 35\n",
        "- Using Python, create the set of all numbers smaller than 40 that are co-prime with 10 (Two numbers are co-prime if the only number that divides both is 1)"
      ]
    },
    {
      "cell_type": "code",
      "metadata": {
        "id": "9-pHjzVI4hK2",
        "outputId": "92755d27-43ba-422b-9bae-1a59f7260389",
        "colab": {
          "base_uri": "https://localhost:8080/",
          "height": 35
        }
      },
      "source": [
        "#Exercise 1A\n",
        "A = {a for a in range(30) if a % 6== 0}\n",
        "print(A)"
      ],
      "execution_count": null,
      "outputs": [
        {
          "output_type": "stream",
          "text": [
            "{0, 6, 12, 18, 24}\n"
          ],
          "name": "stdout"
        }
      ]
    },
    {
      "cell_type": "code",
      "metadata": {
        "id": "lIBU6tol4gwP",
        "outputId": "5de4b92c-40d0-4ca9-c7ae-15dacace1760",
        "colab": {
          "base_uri": "https://localhost:8080/",
          "height": 35
        }
      },
      "source": [
        "#Exercise 1B\n",
        "import math\n",
        "B = {b for b in range(40)  if (math.sqrt(b) % 1 ) == 0}\n",
        "print(B)"
      ],
      "execution_count": null,
      "outputs": [
        {
          "output_type": "stream",
          "text": [
            "{0, 1, 4, 36, 9, 16, 25}\n"
          ],
          "name": "stdout"
        }
      ]
    },
    {
      "cell_type": "code",
      "metadata": {
        "id": "0eJtsOQV4gUe",
        "outputId": "06b84e33-edfa-4426-aa95-3c6c21054969",
        "colab": {
          "base_uri": "https://localhost:8080/",
          "height": 35
        }
      },
      "source": [
        "#Exercise 1C\n",
        "C = {c for c in range(35) if (math.pow(c, 1/3)) % 1 == 0}\n",
        "print(C)"
      ],
      "execution_count": null,
      "outputs": [
        {
          "output_type": "stream",
          "text": [
            "{0, 1, 27, 8}\n"
          ],
          "name": "stdout"
        }
      ]
    },
    {
      "cell_type": "code",
      "metadata": {
        "id": "-3hbf0_H4gAP",
        "outputId": "a79cb978-0027-45ce-b234-12dd4c78375d",
        "colab": {
          "base_uri": "https://localhost:8080/",
          "height": 35
        }
      },
      "source": [
        "#Exercise 1D\n",
        "# Got this nice function thanks to Aine\n",
        "def dividers(n):\n",
        "  dividers = set()\n",
        "  for i in range(2, n + 1):\n",
        "    if n % i == 0:\n",
        "      dividers.add(i)\n",
        "  return dividers\n",
        "\n",
        "def get_coprimes(m, n):\n",
        "  coprimes = set()\n",
        "  a = dividers(n)\n",
        "  for i in range(1, m):\n",
        "    b = dividers(i)\n",
        "    \n",
        "    if a.isdisjoint(b):\n",
        "      coprimes.add(i)\n",
        "  return coprimes\n",
        "\n",
        "coprimes = get_coprimes(18, 1)\n",
        "\n",
        "print(coprimes)\n"
      ],
      "execution_count": null,
      "outputs": [
        {
          "output_type": "stream",
          "text": [
            "{1, 3, 5, 7, 9, 11, 13, 15, 17}\n"
          ],
          "name": "stdout"
        }
      ]
    },
    {
      "cell_type": "markdown",
      "metadata": {
        "id": "OMrEALVxyeGv"
      },
      "source": [
        "## Functions\n",
        "\n",
        "Functions are operations that transform every possible input $x$ into a well determined output $y$. For example, a function can output $y$ from a series of arithmetic operations on $x$ such as in the following case:\n",
        "\n",
        "$$\n",
        "y = f(x) = \\frac{4 x + 6 x^2 + 6}{2x}\n",
        "$$\n",
        "\n",
        "A function can also be defined in pieces, for example, the absolute value function is defined as follows:\n",
        "\n",
        "$$\n",
        "\\begin{align}\n",
        "|x| = \\left\\{ \\begin{array}{cc} \n",
        "                x & \\hspace{5mm} \\text{if} ~~~ x \\geq 0 \\\\\n",
        "                -x & \\hspace{5mm} \\text{otherwise} \\\\\n",
        "                \\end{array} \\right.\n",
        "\\end{align}\n",
        "$$\n",
        "\n",
        "Functions can be defined in python using lambdas, for example:"
      ]
    },
    {
      "cell_type": "code",
      "metadata": {
        "id": "EYEeepxeyedn"
      },
      "source": [
        "f = lambda x: (4*x + 6*x**2 + 6)/(2*x)\n",
        "\n",
        "abs = lambda x: x if x >= 0 else -x"
      ],
      "execution_count": null,
      "outputs": []
    },
    {
      "cell_type": "markdown",
      "metadata": {
        "id": "pal8-w3Etg5s"
      },
      "source": [
        "We can now evaluate these functions at a point such as for example x = -5:"
      ]
    },
    {
      "cell_type": "code",
      "metadata": {
        "id": "YfGWF1EAtoE3",
        "outputId": "fbe111ab-dceb-4b88-89e4-da5260c1d3c5",
        "colab": {
          "base_uri": "https://localhost:8080/",
          "height": 52
        }
      },
      "source": [
        "print(\"f(-5) = {}\".format(f(-5)))\n",
        "print(\"|-5| = {}\".format(abs(-5)))"
      ],
      "execution_count": null,
      "outputs": [
        {
          "output_type": "stream",
          "text": [
            "f(-5) = -13.6\n",
            "|-5| = 5\n"
          ],
          "name": "stdout"
        }
      ]
    },
    {
      "cell_type": "markdown",
      "metadata": {
        "id": "js1PXDdWt9Ob"
      },
      "source": [
        "We can also plot these function using the matplotlib.pyplot library:"
      ]
    },
    {
      "cell_type": "code",
      "metadata": {
        "id": "NKK_50DjuEF1",
        "outputId": "1155c75b-6c63-474d-f4c4-419cc55a4be2",
        "colab": {
          "base_uri": "https://localhost:8080/",
          "height": 283
        }
      },
      "source": [
        "import matplotlib.pyplot as plt\n",
        "import numpy as np\n",
        "\n",
        "x_range = np.linspace(-5,5,100)\n",
        "\n",
        "plt.plot(x_range, [f(x) for x in x_range])"
      ],
      "execution_count": null,
      "outputs": [
        {
          "output_type": "execute_result",
          "data": {
            "text/plain": [
              "[<matplotlib.lines.Line2D at 0x7fcd620f1908>]"
            ]
          },
          "metadata": {
            "tags": []
          },
          "execution_count": 12
        },
        {
          "output_type": "display_data",
          "data": {
            "image/png": "[encoded data removed]",
            "text/plain": [
              "<Figure size 432x288 with 1 Axes>"
            ]
          },
          "metadata": {
            "tags": [],
            "needs_background": "light"
          }
        }
      ]
    },
    {
      "cell_type": "code",
      "metadata": {
        "id": "33PaieX6uWEw",
        "outputId": "9feb775c-5f70-4177-c0d9-0e517d1657dc",
        "colab": {
          "base_uri": "https://localhost:8080/",
          "height": 283
        }
      },
      "source": [
        "plt.plot(x_range, [abs(x) for x in x_range])"
      ],
      "execution_count": null,
      "outputs": [
        {
          "output_type": "execute_result",
          "data": {
            "text/plain": [
              "[<matplotlib.lines.Line2D at 0x7fcd6204fef0>]"
            ]
          },
          "metadata": {
            "tags": []
          },
          "execution_count": 13
        },
        {
          "output_type": "display_data",
          "data": {
            "image/png": "[encoded data removed]",
            "text/plain": [
              "<Figure size 432x288 with 1 Axes>"
            ]
          },
          "metadata": {
            "tags": [],
            "needs_background": "light"
          }
        }
      ]
    },
    {
      "cell_type": "markdown",
      "metadata": {
        "id": "gfIw7kJSu-UI"
      },
      "source": [
        "### Exercises 2\n",
        "Use Python to plot the following functions:\n",
        "- $f(x) = x + 3x + 5 x^2$\n",
        "- $f(x) = 1/x ~~\\text{if} ~~ x < 0 ~~\\text{otherwise} ~~ x$\n",
        "- $f(x) = -1 ~~\\text{if} ~~ x < 0 ~~\\text{otherwise} ~~ 1$\n",
        "- $f(x) = (2x + 4x^4)/(3 + x^2)$"
      ]
    },
    {
      "cell_type": "code",
      "metadata": {
        "id": "AG32lJEP4vSR",
        "outputId": "47da1710-e260-440a-c7fd-7c6cba7ddcd7",
        "colab": {
          "base_uri": "https://localhost:8080/",
          "height": 283
        }
      },
      "source": [
        "#Exercise 2A\n",
        "f = lambda x: (x + 3*x + 5*x**2)\n",
        "plt.plot(x_range, [f(x) for x in x_range])"
      ],
      "execution_count": null,
      "outputs": [
        {
          "output_type": "execute_result",
          "data": {
            "text/plain": [
              "[<matplotlib.lines.Line2D at 0x7fcd61b9ed68>]"
            ]
          },
          "metadata": {
            "tags": []
          },
          "execution_count": 14
        },
        {
          "output_type": "display_data",
          "data": {
            "image/png": "[encoded data removed]",
            "text/plain": [
              "<Figure size 432x288 with 1 Axes>"
            ]
          },
          "metadata": {
            "tags": [],
            "needs_background": "light"
          }
        }
      ]
    },
    {
      "cell_type": "code",
      "metadata": {
        "id": "xU3AZELv4zlo",
        "outputId": "4da31892-680b-4b30-a143-d204c4abc3d6",
        "colab": {
          "base_uri": "https://localhost:8080/",
          "height": 283
        }
      },
      "source": [
        "#Exercise 2B\n",
        "f = lambda x: x/1 if x < 0 else x\n",
        "plt.plot(x_range, [f(x) for x in x_range])"
      ],
      "execution_count": null,
      "outputs": [
        {
          "output_type": "execute_result",
          "data": {
            "text/plain": [
              "[<matplotlib.lines.Line2D at 0x7fcd61b0b550>]"
            ]
          },
          "metadata": {
            "tags": []
          },
          "execution_count": 15
        },
        {
          "output_type": "display_data",
          "data": {
            "image/png": "[encoded data removed]",
            "text/plain": [
              "<Figure size 432x288 with 1 Axes>"
            ]
          },
          "metadata": {
            "tags": [],
            "needs_background": "light"
          }
        }
      ]
    },
    {
      "cell_type": "code",
      "metadata": {
        "id": "OerBm_5F40u8",
        "outputId": "2f49662a-6714-423b-a488-6dc66c797c19",
        "colab": {
          "base_uri": "https://localhost:8080/",
          "height": 283
        }
      },
      "source": [
        "#Exercise 2C\n",
        "f = lambda x: -1 if x < 0 else 1\n",
        "plt.plot(x_range, [f(x) for x in x_range])"
      ],
      "execution_count": null,
      "outputs": [
        {
          "output_type": "execute_result",
          "data": {
            "text/plain": [
              "[<matplotlib.lines.Line2D at 0x7fcd61ae3828>]"
            ]
          },
          "metadata": {
            "tags": []
          },
          "execution_count": 16
        },
        {
          "output_type": "display_data",
          "data": {
            "image/png": "[encoded data removed]",
            "text/plain": [
              "<Figure size 432x288 with 1 Axes>"
            ]
          },
          "metadata": {
            "tags": [],
            "needs_background": "light"
          }
        }
      ]
    },
    {
      "cell_type": "code",
      "metadata": {
        "id": "soioXQVl42E4",
        "outputId": "58e2ade1-5a06-4cca-9ae2-c266ee79d46f",
        "colab": {
          "base_uri": "https://localhost:8080/",
          "height": 283
        }
      },
      "source": [
        "#Exercise 2D\n",
        "f = lambda x: (2*x + 4*x**2) / (3+x**2)\n",
        "plt.plot(x_range, [f(x) for x in x_range])"
      ],
      "execution_count": null,
      "outputs": [
        {
          "output_type": "execute_result",
          "data": {
            "text/plain": [
              "[<matplotlib.lines.Line2D at 0x7fcd61a4b6a0>]"
            ]
          },
          "metadata": {
            "tags": []
          },
          "execution_count": 17
        },
        {
          "output_type": "display_data",
          "data": {
            "image/png": "[encoded data removed]",
            "text/plain": [
              "<Figure size 432x288 with 1 Axes>"
            ]
          },
          "metadata": {
            "tags": [],
            "needs_background": "light"
          }
        }
      ]
    },
    {
      "cell_type": "markdown",
      "metadata": {
        "id": "joAqtOllxvyn"
      },
      "source": [
        "## Rational functions\n",
        "\n",
        "Rational functions are defined as ratios of polynomials. the general form of a rational function is:\n",
        "\n",
        "$$\n",
        "f(x) = \\frac{\\sum_n^N \\alpha_n x^n}{\\sum_m^M \\beta_m x^m}\n",
        "$$\n",
        "\n",
        "Rational functions have poles where their value goes to plus or minus infinity. The necessary condition for a point $x'$ to be a pole is that it is a zero of the polynomial in the denumerator:\n",
        "\n",
        "$$\n",
        "\\sum_m^M \\beta_m {x'}^m = 0\n",
        "$$\n",
        "\n",
        "In fact, poles are a consequence of a \"division by zero\". This equation is the kind of algebrain equations you studied in high school. As an example, consider the following rational function:\n",
        "\n",
        "$$\n",
        "f(x) = \\frac{5}{a x^2 + b x + c}\n",
        "$$\n",
        "\n",
        "The equation for the poles is:\n",
        "\n",
        "$$\n",
        "a x^2 + b x + c = 0\n",
        "$$\n",
        "\n",
        "which has the two solutions given by the quadratic formula:\n",
        "\n",
        "$$\n",
        "x_{\\pm} = \\frac{-b \\pm \\sqrt{b^2 - 4 a c}}{2 a}\n",
        "$$\n",
        "\n",
        "In this case, both these solutions are poles of the rational function. However, this is not always the case since a term in the numerator can 'cancel out\" the zero in the denumerator. For example, consider the foillowing function:\n",
        "\n",
        "$$\n",
        "f(x) = \\frac{x^2 - 1}{x^2 - x}\n",
        "$$\n",
        "\n",
        "the solutions of $x^2 - x = 0$ are $x = 0$ and $x = 1$. However, only $x = 0$ is a pole since both numerator and denominator go to zero as $x$ tends to 1 and these two terms exactly cancel out. \n",
        "\n",
        "### Solved exercise 2\n",
        "\n",
        "Prove this.\n",
        "\n",
        "#### Solution\n",
        "the numerator can be factorized as $x^2 - 1 = (x - 1) (x + 1)$ while the denumerator can be factorized as $x^2 - x = x (x - 1)$. Therefore:\n",
        "\n",
        "$$\n",
        "f(x) = \\frac{x^2 - 1}{x^2 - x} = \\frac{(x - 1)(x + 1)}{x (x - 1)} = \\frac{(x + 1)}{x}\n",
        "$$\n",
        "\n",
        "From this, it is easy to see that the only pole is $x = 0$.\n",
        "\n",
        "### Exercises 3\n",
        "Find the poles of the following rational functions:\n",
        "- $f(x) = \\frac{1 + x}{x^3 + x^2}$\n",
        "- $f(x) = \\frac{3}{2 - x^2}$\n",
        "- $f(x) = \\frac{(2 + x)(3 + x)x}{(x - 1)(x^2 + 5x + 6)}$\n",
        "- $f(x) = \\frac{x + 2 + \\sqrt{2}}{2x + 4x^2 + x^3}$\n",
        "- $f(x) = \\frac{x^2 - 1}{1 + 2x + x^2}$\n",
        "\n",
        "#### Solutions\n",
        "- $0$\n",
        "- $\\pm \\sqrt{2}$\n",
        "- $1$\n",
        "- $0, \\sqrt{2} - 2$\n",
        "- $-1$\n",
        "\n",
        "\n"
      ]
    },
    {
      "cell_type": "markdown",
      "metadata": {
        "id": "uJNEIucl5BjE"
      },
      "source": [
        "> Exercise 3A\n",
        "$$\n",
        "Simplify\\\\\n",
        "f(x) = \\frac{1 + x}{x^3 + x^3} = \\frac{x + 1}{x^2 (x + 1)} = \\frac{1}{x^2} \\\\\n",
        "$$\n",
        "\n",
        "$$\n",
        "Equate\\ denominator\\ with\\ 0\\\\\n",
        "x^2 = 0\\\\\n",
        "$$\n",
        "\n",
        "$$\n",
        "Find\\ x\\\\\n",
        "x  = 0\\\\\n",
        "$$\n",
        "\n",
        "$$\n",
        "Plug\\ x\\ into\\ the\\ equation\\\\\n",
        "\\frac{1}{0^2} = \\frac{1}{0}\\\\\n",
        "$$\n",
        "\n",
        "$$\n",
        "It\\ poles\\ at\\ 0\n",
        "$$"
      ]
    },
    {
      "cell_type": "markdown",
      "metadata": {
        "id": "EnE-BRMj5DNy"
      },
      "source": [
        "> Exercise 3B\n",
        "$$\n",
        "Simplify\\\\\n",
        "f(x) = \\frac{3}{2 - x^2} = \\frac{1}{2 - x^2}\\\\ \n",
        "$$\n",
        "\n",
        "$$\n",
        "Equate\\ denominator\\ with\\ 0\\\\\n",
        "2\\ - x^2 = 0\\\\\n",
        "$$\n",
        "\n",
        "$$\n",
        "Find\\ x\\\\\n",
        "x  = \\pm \\sqrt{2}\\\\\n",
        "$$\n",
        "\n",
        "$$\n",
        "Plug\\ x\\ into\\ the\\ equation\\\\\n",
        "\\frac{1}{2 - \\sqrt{2}^2} = \\frac{1}{0}\\\\\n",
        "$$\n",
        "\n",
        "$$\n",
        "It\\ poles\\ at\\ \\pm \\sqrt{2}\n",
        "$$"
      ]
    },
    {
      "cell_type": "markdown",
      "metadata": {
        "id": "6xU2b1VH5CtS"
      },
      "source": [
        "> Exercise 3C\n",
        "$$\n",
        "Simplify\\\\\n",
        "f(x) = \\frac{(2 + x)(3 + x)x}{(x-1)(x^2 + 5x + 6)} = \\frac{x(x + 2)(x + 3)}{(x - 1)(x + 2)(x + 3)} = \\frac{x}{x - 1}\\\\\n",
        "$$\n",
        "\n",
        "$$\n",
        "Equate\\ denominator\\ with\\ 0\\\\\n",
        "x\\ - 1 = 0\\\\\n",
        "$$\n",
        "\n",
        "$$\n",
        "Find\\ x\\\\\n",
        "x  = 1\\\\\n",
        "$$\n",
        "\n",
        "$$\n",
        "Plug\\ x\\ into\\ the\\ equation\\\\\n",
        "\\frac{1}{1-1} = \\frac{1}{0}\\\\\n",
        "$$\n",
        "\n",
        "$$\n",
        "It\\ poles\\ at\\ 1\n",
        "$$"
      ]
    },
    {
      "cell_type": "markdown",
      "metadata": {
        "id": "jPCzC3j45BLp"
      },
      "source": [
        "> Exercise 3D\n",
        "$$\n",
        "Simplify\\\\\n",
        "f(x) = \\frac{x + 2 + \\sqrt{2}}{2x + 4x^2 + x^3} = \\frac{x + 2 + \\sqrt{2}}{x(x^2 + 4x + 2)}\\\\\n",
        "$$\n",
        "\n",
        "$$\n",
        "Equate\\ denominator\\ with\\ 0\\\\\n",
        "x\\ = 0\\ or\\ x^2 + 4x\\ + 2\\ = 0\\\\\n",
        "$$\n",
        "\n",
        "$$\n",
        "find\\ x\\ by\\ applying\\ quadratic\\ formula\\\\\n",
        "x_{\\pm} = \\frac{-4 \\pm \\sqrt{4^2 - 4 (1 \\cdot 2)}}{2 (1)} = \\frac{-4 \\pm \\sqrt{4^2 - 8}}{2} = \\frac{-4 \\pm \\sqrt{8}}{2} = \\frac{-4 \\pm 2\\sqrt{2}}{2} = \\frac{-4 \\pm \\sqrt{2}}{2} = -2 \\pm \\sqrt{2}\\\\ x =-2 + \\sqrt{2}\\ or\\ x = -2 - \\sqrt{2} \\\\\n",
        "$$\n",
        "\n",
        "$$\n",
        "0 + 2 + \\sqrt{2} = 3.41\\\\ \n",
        "or\\\\ -2 + \\sqrt{2} + 2 + \\sqrt{2}  = 2.82\\\\ \n",
        "or\\\\ -2 - \\sqrt{2} + 2 + \\sqrt{2} = 0\\\\\n",
        "$$\n",
        "\n",
        "$$\n",
        "It\\ poles\\ at\\\\\n",
        "0\\ and\\ -2 + \\sqrt{2} \n",
        "$$"
      ]
    },
    {
      "cell_type": "markdown",
      "metadata": {
        "id": "IaeBfJB45eIl"
      },
      "source": [
        "> Exercise 3E\n",
        "$$\n",
        "Simplify\\\\\n",
        "f(x) = \\frac{x^2 - 1}{1 + 2x + x^2} = \\frac{(x - 1)(x + 1)}{(x + 1)^2} = \\frac{x - 1}{x + 1}\\\\\n",
        "$$\n",
        "\n",
        "$$\n",
        "Equate\\ denominator\\ with\\ 0\\\\\n",
        "x\\ + 1 = 0\\\\\n",
        "$$\n",
        "\n",
        "$$\n",
        "find\\ x\\\\\n",
        "x  = -1\\\\\n",
        "$$\n",
        "\n",
        "$$\n",
        "plug\\ x\\ into\\ the\\ equation\\\\\n",
        "\\frac{-1 - 1}{-1 + 1} = \\frac{-2}{0}\\\\\n",
        "$$\n",
        "\n",
        "$$\n",
        "It\\ poles\\ at\\ -1\n",
        "$$\n",
        "\n"
      ]
    },
    {
      "cell_type": "markdown",
      "metadata": {
        "id": "d6HnW0U449v4"
      },
      "source": [
        "### Python exercises 3\n",
        "Use Python to plot those function on a range and to check your computations. You should see that the function goes to +- infinity around the poles."
      ]
    },
    {
      "cell_type": "code",
      "metadata": {
        "id": "cyNmc9oW5iZL",
        "outputId": "9137d542-2b59-4463-df9f-b95dc1fe0a42",
        "colab": {
          "base_uri": "https://localhost:8080/",
          "height": 283
        }
      },
      "source": [
        "# Exercise 3A\n",
        "f = lambda x: (1 + x) / (x**3 + x**2)\n",
        "plt.plot(x_range, [f(x) for x in x_range])"
      ],
      "execution_count": null,
      "outputs": [
        {
          "output_type": "execute_result",
          "data": {
            "text/plain": [
              "[<matplotlib.lines.Line2D at 0x7fcd619b93c8>]"
            ]
          },
          "metadata": {
            "tags": []
          },
          "execution_count": 18
        },
        {
          "output_type": "display_data",
          "data": {
            "image/png": "[encoded data removed]",
            "text/plain": [
              "<Figure size 432x288 with 1 Axes>"
            ]
          },
          "metadata": {
            "tags": [],
            "needs_background": "light"
          }
        }
      ]
    },
    {
      "cell_type": "code",
      "metadata": {
        "id": "Zs80fFoR5nF8",
        "outputId": "6eaff9e0-8416-4c4e-b757-d2384513858d",
        "colab": {
          "base_uri": "https://localhost:8080/",
          "height": 283
        }
      },
      "source": [
        "# Exercise 3B\n",
        "f = lambda x: ( 3 / (2 - x**2))\n",
        "plt.plot(x_range, [f(x) for x in x_range])"
      ],
      "execution_count": null,
      "outputs": [
        {
          "output_type": "execute_result",
          "data": {
            "text/plain": [
              "[<matplotlib.lines.Line2D at 0x7fcd619a20f0>]"
            ]
          },
          "metadata": {
            "tags": []
          },
          "execution_count": 19
        },
        {
          "output_type": "display_data",
          "data": {
            "image/png": "[encoded data removed]",
            "text/plain": [
              "<Figure size 432x288 with 1 Axes>"
            ]
          },
          "metadata": {
            "tags": [],
            "needs_background": "light"
          }
        }
      ]
    },
    {
      "cell_type": "code",
      "metadata": {
        "id": "Yg1B5xSf5oHd",
        "outputId": "37b782c0-536a-4c49-e01e-1f0af68d6f41",
        "colab": {
          "base_uri": "https://localhost:8080/",
          "height": 283
        }
      },
      "source": [
        "# Exercise 3C\n",
        "f = lambda x: (2+x)*(3+x)*x / (x-1)*(x**2 + 5*x + 6)\n",
        "plt.plot(x_range, [f(x) for x in x_range])"
      ],
      "execution_count": null,
      "outputs": [
        {
          "output_type": "execute_result",
          "data": {
            "text/plain": [
              "[<matplotlib.lines.Line2D at 0x7fcd618f87b8>]"
            ]
          },
          "metadata": {
            "tags": []
          },
          "execution_count": 20
        },
        {
          "output_type": "display_data",
          "data": {
            "image/png": "[encoded data removed]",
            "text/plain": [
              "<Figure size 432x288 with 1 Axes>"
            ]
          },
          "metadata": {
            "tags": [],
            "needs_background": "light"
          }
        }
      ]
    },
    {
      "cell_type": "code",
      "metadata": {
        "id": "rwA4iJX35pOh",
        "outputId": "6dc38fb3-63cc-4e9c-f91d-59430832ef5c",
        "colab": {
          "base_uri": "https://localhost:8080/",
          "height": 283
        }
      },
      "source": [
        "# Exercise 3D\n",
        "f = lambda x: (x + 2 + math.sqrt(2)) / (2*x + 4*x**2 + x**3)\n",
        "plt.plot(x_range, [f(x) for x in x_range])"
      ],
      "execution_count": null,
      "outputs": [
        {
          "output_type": "execute_result",
          "data": {
            "text/plain": [
              "[<matplotlib.lines.Line2D at 0x7fcd618d9e10>]"
            ]
          },
          "metadata": {
            "tags": []
          },
          "execution_count": 21
        },
        {
          "output_type": "display_data",
          "data": {
            "image/png": "[encoded data removed]",
            "text/plain": [
              "<Figure size 432x288 with 1 Axes>"
            ]
          },
          "metadata": {
            "tags": [],
            "needs_background": "light"
          }
        }
      ]
    },
    {
      "cell_type": "code",
      "metadata": {
        "id": "PmfR5bd95qQL",
        "outputId": "b47f6b97-c61f-4f40-a9cd-f33e45a15bbf",
        "colab": {
          "base_uri": "https://localhost:8080/",
          "height": 283
        }
      },
      "source": [
        "# Exercise 3E\n",
        "f = lambda x: (x**2 - 1) / (1 + 2*x + x**2)\n",
        "plt.plot(x_range, [f(x) for x in x_range])"
      ],
      "execution_count": null,
      "outputs": [
        {
          "output_type": "execute_result",
          "data": {
            "text/plain": [
              "[<matplotlib.lines.Line2D at 0x7fcd61831fd0>]"
            ]
          },
          "metadata": {
            "tags": []
          },
          "execution_count": 22
        },
        {
          "output_type": "display_data",
          "data": {
            "image/png": "[encoded data removed]",
            "text/plain": [
              "<Figure size 432x288 with 1 Axes>"
            ]
          },
          "metadata": {
            "tags": [],
            "needs_background": "light"
          }
        }
      ]
    },
    {
      "cell_type": "markdown",
      "metadata": {
        "id": "LFmQYHMsx03C"
      },
      "source": [
        "## Asymptotic relations between functions\n",
        "\n",
        "In the previous lecture we discussed asymptotic relations between sequences. We can analogously define asymptotic relations between functions. However, in this case we need to specify a point $x'$ around which we are interested in studying the asymptotic behavior. Two functions $f(x)$ and $g(x)$ are said to be asymptotic around $x'$ when:\n",
        "\n",
        "$$\n",
        "\\lim_{x \\rightarrow x'} \\frac{f(x)}{g(x)} = \\lim_{x \\rightarrow x'} \\frac{g(x)}{f(x)} = 1~.\n",
        "$$\n",
        "\n",
        "In this case, we write $f(x) \\sim g(x)$. However, be careful since this notation \"hides\" the point $x'$. Two factions that are asymptotic at $x'$ are not necessarely asymptotic around any other point!\n",
        "\n",
        "Asymptotic relations between functions are \"boring\" when $f(x)$ and $g(x)$ are continuous $x'$ is neither a pole or a zero of either of functions. In fact, in that case we have:\n",
        "\n",
        "$$\n",
        "\\lim_{x \\rightarrow x'} \\frac{f(x)}{g(x)} =  \\frac{\\lim_{x \\rightarrow x'} f(x)}{\\lim_{x \\rightarrow x'} g(x)} = \\frac{f(x')}{g(x')}~.\n",
        "$$\n",
        "\n",
        "(Note that $\\lim_{x \\rightarrow x'} f(x) = f(x')$ is the definition of continuity) Therefore, two continuous functions that have a non-zero value at $x'$ are asymptotic if and only if the have the same value at $x'$. \n",
        "\n",
        "### Solved exercises 3\n",
        "Are the following two functions asymptotic around $x' = 1\"?\n",
        "\n",
        "$$\n",
        "f(x) = (x - 1) + 3 (x - 1)^2\n",
        "$$\n",
        "\n",
        "$$\n",
        "g(x) = (x - 1)\n",
        "$$\n",
        "\n",
        "#### Solution\n",
        "Yes! Consider the limit of the ratio:\n",
        "\n",
        "$$\n",
        "\\lim_{x \\rightarrow 1} \\frac{(x - 1) + 3 (x - 1)^2}{(x - 1)} = \\lim_{x \\rightarrow 1} \\frac{(x - 1)}{(x - 1)} + \\lim_{x \\rightarrow 1} \\frac{3 (x - 1)^2}{(x - 1)} = 1 + 3 \\lim_{x \\rightarrow 1} (x - 1) = 1\n",
        "$$\n",
        "\n",
        "Note that in this case the lowest power dominates the asymptotic behavior! In fact, the term $(x - 1)^2$ goes to zero much faster than $(x - 1)$  when $x$ tends to $1$ and it is therefore \"irrelevant\". We can see this by plotting those functions using Python:"
      ]
    },
    {
      "cell_type": "code",
      "metadata": {
        "id": "UPjqzA0sx5qk",
        "outputId": "cbfdd76f-6dfe-41e2-e728-f84bf6b1d77e",
        "colab": {
          "base_uri": "https://localhost:8080/",
          "height": 287
        }
      },
      "source": [
        "f1 = lambda x: (x - 1)\n",
        "f2 = lambda x: (x - 1)**2\n",
        "\n",
        "x_range = np.linspace(1,1.5,10)\n",
        "\n",
        "plt.plot(x_range, [f1(x) for x in x_range], label=\"(x - 1)\")\n",
        "plt.plot(x_range, [f2(x) for x in x_range], label=\"(x - 1)^2\")\n",
        "plt.xlim((1,1.5))\n",
        "plt.ylim((0,1))\n",
        "plt.legend(loc=\"best\")"
      ],
      "execution_count": null,
      "outputs": [
        {
          "output_type": "execute_result",
          "data": {
            "text/plain": [
              "<matplotlib.legend.Legend at 0x7fcd61812dd8>"
            ]
          },
          "metadata": {
            "tags": []
          },
          "execution_count": 23
        },
        {
          "output_type": "display_data",
          "data": {
            "image/png": "[encoded data removed]",
            "text/plain": [
              "<Figure size 432x288 with 1 Axes>"
            ]
          },
          "metadata": {
            "tags": [],
            "needs_background": "light"
          }
        }
      ]
    },
    {
      "cell_type": "markdown",
      "metadata": {
        "id": "elXxwMJPD3xH"
      },
      "source": [
        "### Exercises 4\n",
        "Determine if the following pairs of functions are asymptotic at $x = 0$.\n",
        "- $f(x) = 2x + x^2$, $g(x) = x + x^3$\n",
        "- $f(x) = x + x^2$, $g(x) = x + x^3$\n",
        "- $f(x) = 2 + x$, $g(x) = x$\n",
        "- $f(x) = 1 + x + 4x^2 + 3x^3 + 5x^4$, $g(x) = 1 + x^6$\n",
        "- $f(x) = 4 x^6 + x^8$, $g(x) = 3x^3 + 4 x^6$\n",
        "\n",
        "#### Solutions\n",
        "- No\n",
        "- Yes\n",
        "- No\n",
        "- Yes\n",
        "- No\n",
        "\n"
      ]
    },
    {
      "cell_type": "markdown",
      "metadata": {
        "id": "OR3-RKQB60sp"
      },
      "source": [
        "> Exercise 4A\n",
        "$$\n",
        "\\lim_{x \\rightarrow 0} \\frac{2x + x^2}{x + x^3} = \\lim_{x \\rightarrow 0} \\frac{x(2 + x)}{x(1 + x^2)} = \\lim_{x \\rightarrow 0} \\frac{2}{1 + x} = 2\n",
        "$$"
      ]
    },
    {
      "cell_type": "markdown",
      "metadata": {
        "id": "ORApc63v61H0"
      },
      "source": [
        "> Exercise 4B\n",
        "$$\n",
        "\\lim_{x \\rightarrow 0} \\frac{x + x^2}{x + x^3} = \\lim_{x \\rightarrow 0} \\frac{x(1 + x)}{x(1 + x^2)} = \\lim_{x \\rightarrow 0} \\frac{1}{1} = 1\n",
        "$$"
      ]
    },
    {
      "cell_type": "markdown",
      "metadata": {
        "id": "VO82Bzkw614v"
      },
      "source": [
        "> Exercise 4C\n",
        "$$\n",
        "\\lim_{x \\rightarrow 0} \\frac{2 + x}{x}  = \\lim_{x \\rightarrow 0} 2 = 2\n",
        "$$"
      ]
    },
    {
      "cell_type": "markdown",
      "metadata": {
        "id": "ezq4R2ue62he"
      },
      "source": [
        "> Exercise 4D\n",
        "$$\n",
        "\\lim_{x \\rightarrow 0} \\frac{1 + x + 4x^2 + 3x^3 + 5x^4}{1 + x^6} = \\lim_{x \\rightarrow 0} =\\frac{1 + 0 + 4(0)^2 + 3(0)^3 + 5(0)^4}{1 + 0^6} = \\lim_{x \\rightarrow 0} \\frac{1}{1} = 1\n",
        "$$"
      ]
    },
    {
      "cell_type": "markdown",
      "metadata": {
        "id": "iZCvj1mo63lC"
      },
      "source": [
        "> Exercise 4E\n",
        "$$\n",
        "\\lim_{x \\rightarrow 0} \\frac{4x^6 + x^8}{3x^3 + 4x^6} = \\lim_{x \\rightarrow 0} \\frac{x^6(4 + x^2)}{x^3(3 + 4x^3)} = \\lim_{x \\rightarrow 0} \\frac{x^3(4+x^2)}{3 + 4x^3} = \\lim_{x \\rightarrow 0} \\frac{0^3(4+0^2)}{3 + 4(0)^3} = 0\\\\\n",
        "$$\n",
        "\n",
        "$$\n",
        "or\\\\\n",
        "\\lim_{x \\rightarrow 0} \\frac{4x^6 + x^8}{3x^3 + 4x^6} = \\lim_{x \\rightarrow 0} \\frac{x^3(4x^3 + x^5)}{x^3(3 + 4x^3)} = \\lim_{x \\rightarrow 0} \\frac{x^5+4x^3}{3 + 4x^3} = \\lim_{x \\rightarrow 0} \\frac{x^5}{3} = \\lim_{x \\rightarrow 0}\\frac{0}{3} = 0\\\\\n",
        "$$\n",
        "\n",
        "$$\n",
        "I\\ have\\ found\\ multiple\\ ways\\ to\\ factorise\\ this\\ excersise\\ which\\ one\\ is\\ actually\\ prefered?\n",
        "$$"
      ]
    },
    {
      "cell_type": "markdown",
      "metadata": {
        "id": "SpKcCWU16yFq"
      },
      "source": [
        "### Python exercises 4\n",
        "Check those asymptotic relations numerically using Python.\n",
        "\n",
        "#### Solution of the first question\n",
        "Let's write the two functions using Python:"
      ]
    },
    {
      "cell_type": "code",
      "metadata": {
        "id": "wodyT2c9FWQC"
      },
      "source": [
        "f = lambda x: 2*x + x**2\n",
        "g = lambda x: x + x**3"
      ],
      "execution_count": null,
      "outputs": []
    },
    {
      "cell_type": "markdown",
      "metadata": {
        "id": "vSZ-zhjrFhkw"
      },
      "source": [
        "We can check the limit of the ratio numerically by evaluating their ratio for a very small number such as $0.0001$. Note that we can't evaluate the ratio at zero since dividing by zero would throw an error!"
      ]
    },
    {
      "cell_type": "code",
      "metadata": {
        "id": "7r8ygzXmFzTK",
        "outputId": "f5c967c8-0a0d-4664-b5e3-0d43da98d494",
        "colab": {
          "base_uri": "https://localhost:8080/",
          "height": 35
        }
      },
      "source": [
        "print(\"The approximate limit of the ratio is {}\".format(f(0.0001)/g(0.0001)))"
      ],
      "execution_count": null,
      "outputs": [
        {
          "output_type": "stream",
          "text": [
            "The approximate limit of the ratio is 2.0000999799990002\n"
          ],
          "name": "stdout"
        }
      ]
    },
    {
      "cell_type": "markdown",
      "metadata": {
        "id": "9oZ6e1CK7Gar"
      },
      "source": [
        "The result is clearly not close to one, therefore the two sequences are not asymptotic."
      ]
    },
    {
      "cell_type": "code",
      "metadata": {
        "id": "94AG_rXs0iGu"
      },
      "source": [
        "def is_asymptotic(f, g):\n",
        "  N = 0.0001\n",
        "  result = (f(N)/g(N))\n",
        "  print(\"The approximate limit of the ratio is {}\".format(result))\n",
        "  if round(result) == 1:\n",
        "    print('Is asymptotic')\n",
        "  else:\n",
        "    print('Is not asymptotic')"
      ],
      "execution_count": null,
      "outputs": []
    },
    {
      "cell_type": "code",
      "metadata": {
        "id": "e0cLsuLj7LWP",
        "outputId": "09cea385-0e96-48f0-b621-a8613d07666e",
        "colab": {
          "base_uri": "https://localhost:8080/",
          "height": 52
        }
      },
      "source": [
        "# Exercise 4B\n",
        "f = lambda x: x + x**2\n",
        "g = lambda x: x + x**3\n",
        "is_asymptotic(f, g)"
      ],
      "execution_count": null,
      "outputs": [
        {
          "output_type": "stream",
          "text": [
            "The approximate limit of the ratio is 1.0000999899990002\n",
            "Is asymptotic\n"
          ],
          "name": "stdout"
        }
      ]
    },
    {
      "cell_type": "code",
      "metadata": {
        "id": "ZyZA31r57LyH",
        "outputId": "e1d89df3-fb9d-40fa-8478-eee1aa0ad3d0",
        "colab": {
          "base_uri": "https://localhost:8080/",
          "height": 52
        }
      },
      "source": [
        "# Exercise 4C\n",
        "f = lambda x: 2 + x\n",
        "g = lambda x: x\n",
        "is_asymptotic(f, g)"
      ],
      "execution_count": null,
      "outputs": [
        {
          "output_type": "stream",
          "text": [
            "The approximate limit of the ratio is 20001.0\n",
            "Is not asymptotic\n"
          ],
          "name": "stdout"
        }
      ]
    },
    {
      "cell_type": "code",
      "metadata": {
        "id": "4Xce4W037MhW",
        "outputId": "c03dc22d-7610-40dc-82f7-37ea1ec228c6",
        "colab": {
          "base_uri": "https://localhost:8080/",
          "height": 52
        }
      },
      "source": [
        "# Exercise 4D\n",
        "f = lambda x: (1 + x + 4*x**2 + 3*x**3 + 5*x**4)\n",
        "g = lambda x: 1 + 6*x\n",
        "is_asymptotic(f, g)"
      ],
      "execution_count": null,
      "outputs": [
        {
          "output_type": "stream",
          "text": [
            "The approximate limit of the ratio is 0.999500339799121\n",
            "Is asymptotic\n"
          ],
          "name": "stdout"
        }
      ]
    },
    {
      "cell_type": "code",
      "metadata": {
        "id": "RxRqGrJ97NcP",
        "outputId": "9eecd859-95b6-4775-a3a6-424526cf5674",
        "colab": {
          "base_uri": "https://localhost:8080/",
          "height": 52
        }
      },
      "source": [
        "# Exercise 4E\n",
        "f = lambda x: 4*x**6 + x**8\n",
        "g = lambda x: 3*x**3 + 4*x**6\n",
        "is_asymptotic(f, g)"
      ],
      "execution_count": null,
      "outputs": [
        {
          "output_type": "stream",
          "text": [
            "The approximate limit of the ratio is 1.3333333366648891e-12\n",
            "Is not asymptotic\n"
          ],
          "name": "stdout"
        }
      ]
    },
    {
      "cell_type": "markdown",
      "metadata": {
        "id": "QnxKs4ZCGAsS"
      },
      "source": [
        "## Asymptotic relations involving trascendental functions\n",
        "\n",
        "Trascendental functions are functions that cannot be written in terms on polynomials. Typical examples are the exponential, its inverse the logarithm and trigonometric functions such as sine, cosine and tangent. While trascendental functions are more complicated than polynomials, using asymptotic relations we can reduce them locally to much simpler functions. For example, the function:\n",
        "\n",
        "$$\n",
        "f(x) = \\exp(x) - 1\n",
        "$$\n",
        "\n",
        "is asymptotic to $x$ for $x$ tending to $0$. here is a list of useful asymptitic relations involving transcendetal functions (for $x$ tending to zero):\n",
        "- $\\exp(x) - 1 \\sim x$\n",
        "- $\\sin(x) \\sim x$\n",
        "- $\\cos(x) - 1 \\sim -\\frac{1}{2} x^2$\n",
        "- $\\tan(x) \\sim x$\n",
        "- $\\log(1 + x) \\sim x$\n",
        "\n",
        "### Python exercises 5\n",
        "Plot each of these functions together with its asymptoticly related simple function. You should try to understand what asymptotically related functions have in common.\n",
        "\n",
        "#### Solution of question one"
      ]
    },
    {
      "cell_type": "code",
      "metadata": {
        "id": "vRh2Vo0ETt30",
        "outputId": "b0caa2ba-67ca-4b8a-9402-0003ba223c58",
        "colab": {
          "base_uri": "https://localhost:8080/",
          "height": 283
        }
      },
      "source": [
        "f = lambda x: np.exp(x) - 1\n",
        "g = lambda x: x\n",
        "\n",
        "x_range = np.linspace(-1,1,100)\n",
        "\n",
        "plt.plot(x_range, [f(x) for x in x_range], label=\"exp(x)\")\n",
        "plt.plot(x_range, [g(x) for x in x_range], label=\"x\")\n",
        "plt.legend(loc=\"best\")"
      ],
      "execution_count": null,
      "outputs": [
        {
          "output_type": "execute_result",
          "data": {
            "text/plain": [
              "<matplotlib.legend.Legend at 0x7fcd61b1fb38>"
            ]
          },
          "metadata": {
            "tags": []
          },
          "execution_count": 31
        },
        {
          "output_type": "display_data",
          "data": {
            "image/png": "[encoded data removed]",
            "text/plain": [
              "<Figure size 432x288 with 1 Axes>"
            ]
          },
          "metadata": {
            "tags": [],
            "needs_background": "light"
          }
        }
      ]
    },
    {
      "cell_type": "code",
      "metadata": {
        "id": "6tldzMD18DyW",
        "outputId": "f872a446-92d7-4db8-da01-1a7de85ec283",
        "colab": {
          "base_uri": "https://localhost:8080/",
          "height": 283
        }
      },
      "source": [
        "# Exercise 5B\n",
        "f = lambda x: np.sin(x)\n",
        "g = lambda x: x\n",
        "plt.plot(x_range, [f(x) for x in x_range], label=\"sin(x)\")\n",
        "plt.plot(x_range, [g(x) for x in x_range], label=\"x\")\n",
        "plt.legend(loc=\"best\")"
      ],
      "execution_count": null,
      "outputs": [
        {
          "output_type": "execute_result",
          "data": {
            "text/plain": [
              "<matplotlib.legend.Legend at 0x7fcd61bccf60>"
            ]
          },
          "metadata": {
            "tags": []
          },
          "execution_count": 32
        },
        {
          "output_type": "display_data",
          "data": {
            "image/png": "[encoded data removed]",
            "text/plain": [
              "<Figure size 432x288 with 1 Axes>"
            ]
          },
          "metadata": {
            "tags": [],
            "needs_background": "light"
          }
        }
      ]
    },
    {
      "cell_type": "code",
      "metadata": {
        "id": "_whoG4u58Jay",
        "outputId": "59032e2f-622b-4a57-b230-19a4a3cb2ea1",
        "colab": {
          "base_uri": "https://localhost:8080/",
          "height": 283
        }
      },
      "source": [
        "# Exercise 5C\n",
        "f = lambda x: np.cos(x) - 1\n",
        "g = lambda x: -1/2*x**2\n",
        "plt.plot(x_range, [f(x) for x in x_range], label=\"cos(x)\")\n",
        "plt.plot(x_range, [g(x) for x in x_range], label=\"x\")\n",
        "plt.legend(loc=\"best\")"
      ],
      "execution_count": null,
      "outputs": [
        {
          "output_type": "execute_result",
          "data": {
            "text/plain": [
              "<matplotlib.legend.Legend at 0x7fcd616e76a0>"
            ]
          },
          "metadata": {
            "tags": []
          },
          "execution_count": 33
        },
        {
          "output_type": "display_data",
          "data": {
            "image/png": "[encoded data removed]",
            "text/plain": [
              "<Figure size 432x288 with 1 Axes>"
            ]
          },
          "metadata": {
            "tags": [],
            "needs_background": "light"
          }
        }
      ]
    },
    {
      "cell_type": "code",
      "metadata": {
        "id": "SsWCACgS8Kib",
        "outputId": "5c713ba6-87a9-4768-98e7-9e00901d9fcd",
        "colab": {
          "base_uri": "https://localhost:8080/",
          "height": 283
        }
      },
      "source": [
        "# Exercise 5D\n",
        "f = lambda x: np.tan(x)\n",
        "g = lambda x: x\n",
        "plt.plot(x_range, [f(x) for x in x_range], label=\"tan(x)\")\n",
        "plt.plot(x_range, [g(x) for x in x_range], label=\"x\")\n",
        "plt.legend(loc=\"best\")"
      ],
      "execution_count": null,
      "outputs": [
        {
          "output_type": "execute_result",
          "data": {
            "text/plain": [
              "<matplotlib.legend.Legend at 0x7fcd61656e48>"
            ]
          },
          "metadata": {
            "tags": []
          },
          "execution_count": 34
        },
        {
          "output_type": "display_data",
          "data": {
            "image/png": "[encoded data removed]",
            "text/plain": [
              "<Figure size 432x288 with 1 Axes>"
            ]
          },
          "metadata": {
            "tags": [],
            "needs_background": "light"
          }
        }
      ]
    },
    {
      "cell_type": "code",
      "metadata": {
        "id": "QWy3oYdv8Loy",
        "outputId": "3ff609ac-617c-4f37-b230-4f53e19382b9",
        "colab": {
          "base_uri": "https://localhost:8080/",
          "height": 318
        }
      },
      "source": [
        "# Exercise 5E\n",
        "f = lambda x: np.log(1 + x)\n",
        "g = lambda x: x\n",
        "plt.plot(x_range, [f(x) for x in x_range], label=\"log(x)\")\n",
        "plt.plot(x_range, [g(x) for x in x_range], label=\"x\")\n",
        "plt.legend(loc=\"best\")"
      ],
      "execution_count": null,
      "outputs": [
        {
          "output_type": "stream",
          "text": [
            "/usr/local/lib/python3.6/dist-packages/ipykernel_launcher.py:2: RuntimeWarning: divide by zero encountered in log\n",
            "  \n"
          ],
          "name": "stderr"
        },
        {
          "output_type": "execute_result",
          "data": {
            "text/plain": [
              "<matplotlib.legend.Legend at 0x7fcd615cdfd0>"
            ]
          },
          "metadata": {
            "tags": []
          },
          "execution_count": 35
        },
        {
          "output_type": "display_data",
          "data": {
            "image/png": "[encoded data removed]",
            "text/plain": [
              "<Figure size 432x288 with 1 Axes>"
            ]
          },
          "metadata": {
            "tags": [],
            "needs_background": "light"
          }
        }
      ]
    },
    {
      "cell_type": "markdown",
      "metadata": {
        "id": "qTmkP92MUm9b"
      },
      "source": [
        "## Computing limits using asymptotics\n",
        "\n",
        "Like in the case of sequences, asymptotic relations are very useful when we need to compute limits. Like for sequences, two functions that are asymptotically related around a point $x'$ have the same limit at $x'$ (if they have a limit). Furthermore, we can divide and multiply both sides of an asymptotic relation by a third function $h(x)$ and still get a valid asymptotic relation. However, note that we CANNOT sum or subtract a function from both sides of an asymptotic relation.\n",
        "\n",
        "We can use these results to compute undeterminate limits of ratios of functions that go to zero at $x'$. For exanple, consider the following limit:\n",
        "\n",
        "$$\n",
        "\\lim_{x \\rightarrow 0} \\frac{\\sin(x)}{x + x^2}\n",
        "$$\n",
        "\n",
        "Using the asymptotic relation of the size at zero, we get:\n",
        "\n",
        "$$\n",
        "\\frac{\\sin(x)}{x + x^2} \\sim \\frac{x}{x + x^2} =  \\frac{1}{1 + x}\n",
        "$$\n",
        "\n",
        "Therefore:\n",
        "\n",
        "$$\n",
        "\\lim_{x \\rightarrow 0} \\frac{\\sin(x)}{x} = \\lim_{x \\rightarrow 0} \\frac{1}{1 + x} = 1\n",
        "$$\n",
        "\n",
        "### Exercises 6\n",
        "Compute the limit of the following functions for $x$ tending to $0$.\n",
        "- $f(x) = \\frac{x^2 + 5 x^5}{3x^2 + 3 x^4}$\n",
        "- $f(x) = \\frac{x \\sin(x)}{7x^2 + x^4}$\n",
        "- $f(x) = \\frac{5(\\exp(x) - 1)x^2}{8x^7 + 2x^3 + x^{12}}$\n",
        "- $f(x) = \\frac{x}{\\tan(x)}$\n",
        "- $f(x) = \\frac{\\exp(x)^2 - 1}{x}$\n",
        "- $f(x) = \\frac{\\cos(x)^2 - 1}{x^2}$\n",
        "- $f(x) = \\frac{\\tan(x)^2}{\\cos(x) - 1}$\n",
        "- $f(x) = \\frac{2x + x^2 + 5 x^5}{x + 3x^2 + 3 x^4 + 3x}$\n",
        "\n",
        "#### Solutions\n",
        "- $1/3$\n",
        "- $1/7$\n",
        "- $5/2$\n",
        "- $1$\n",
        "- $2$\n",
        "- $-1$\n",
        "- $-2$\n",
        "- $1/2$"
      ]
    },
    {
      "cell_type": "markdown",
      "metadata": {
        "id": "C9hW5QEy7gkn"
      },
      "source": [
        "> Exercise 6A\n",
        "$$\n",
        "\\lim_{x \\rightarrow 0} \\frac{x^2 + 5 x^5}{3x^2 + 3 x^4} = \\lim_{x \\rightarrow 0} \\frac{x^2}{3x^2} = \\lim_{x \\rightarrow 0} \\frac{1}{3} = \\frac{1}{3}\n",
        "$$"
      ]
    },
    {
      "cell_type": "markdown",
      "metadata": {
        "id": "fKmz2cbL7jfL"
      },
      "source": [
        "> Exercise 6B\n",
        "$$\n",
        "\\lim_{x \\rightarrow 0} \\frac{x \\sin(x)}{7x^2 + x^4} = \\lim_{x \\rightarrow 0} \\frac{x^2}{7x^2} = \\lim_{x \\rightarrow 0} \\frac{1}{7} = \\frac{1}{7}\n",
        "$$"
      ]
    },
    {
      "cell_type": "markdown",
      "metadata": {
        "id": "LPbeRU_n7kgT"
      },
      "source": [
        "> Exercise 6C\n",
        "$$\n",
        "\\lim_{x \\rightarrow 0}\\frac{5(\\exp(x) - 1)x^2}{8x^7 + 2x^3 + x^{12}} =  \\lim_{x \\rightarrow 0}\\frac{5(x)\\cdot x^2}{2x^3} =  \\lim_{x \\rightarrow 0}\\frac{5x^3}{2x^3} = \\lim_{x \\rightarrow 0} \\frac{5}{2} = \\frac{5}{2}\n",
        "$$"
      ]
    },
    {
      "cell_type": "markdown",
      "metadata": {
        "id": "hiRHR3_A7lpA"
      },
      "source": [
        "> Exercise 6D\n",
        "$$\n",
        "\\lim_{x \\rightarrow 0} \\frac{x}{\\tan(x)} = \\lim_{x \\rightarrow 0} \\frac{x}{x} = \\lim_{x \\rightarrow 0} \\frac{1}{1} = 1\n",
        "$$"
      ]
    },
    {
      "cell_type": "markdown",
      "metadata": {
        "id": "jF8PRvIt7msY"
      },
      "source": [
        "> Exercise 6E\n",
        "\n",
        "$$\n",
        "\\lim_{x \\rightarrow 0} \\frac{\\exp(x)^2-1}{x} = \\lim_{x \\rightarrow 0} \\frac{(\\exp(x)-1)(exp(x)+1)}{x} = \\lim_{x \\rightarrow 0} \\frac{x(x+1)}{x} = \\lim_{x \\rightarrow 0} \\frac{1+1}{1} = 2\n",
        "$$"
      ]
    },
    {
      "cell_type": "markdown",
      "metadata": {
        "id": "GAX89vf27nrv"
      },
      "source": [
        "> Exercise 6F\n",
        "$$\n",
        "\\lim_{x \\rightarrow 0} \\frac{\\cos(x)^2-1}{x^2} = \\lim_{x \\rightarrow 0} \\frac{(\\cos(x)-1)(cos(x)+1)}{x^2} = \\lim_{x \\rightarrow 0} \\frac{\\frac{1}{x^2}(\\cos(-x)-1)(cos(x)+1)}{\\frac{1}{x^2}(x^2)} = \\lim_{x \\rightarrow 0} \\frac{-\\frac{1}{2}(1)^2(1+1)}{1}= \\lim_{x \\rightarrow 0} \\frac{-1}{1} = -1\n",
        "$$"
      ]
    },
    {
      "cell_type": "markdown",
      "metadata": {
        "id": "aio3yAnq7or6"
      },
      "source": [
        "> Exercise 6G\n",
        "$$\n",
        "\\lim_{x \\rightarrow 0} \\frac{tan(x)^2}{\\cos(x)-1} = \\lim_{x \\rightarrow 0} \\frac{x^2}{-\\frac{1}{2}^2} = \\lim_{x \\rightarrow 0} \\frac{1}{-\\frac{1}{2}} =-2\n",
        "$$"
      ]
    },
    {
      "cell_type": "markdown",
      "metadata": {
        "id": "o1YTWoi67qEp"
      },
      "source": [
        "> Exercise 6H\n",
        "\n",
        "$$\n",
        "\\lim_{x \\rightarrow 0}\\frac{2x + x^2 + 5 x^5}{x + 3x^2 + 3 x^4 + 3x} = \\lim_{x \\rightarrow 0} \\frac{2x}{x + 3x} = \\lim_{x \\rightarrow 0} \\frac{2x}{4x} = \\lim_{x \\rightarrow 0} \\frac{2}{4} = \\frac{1}{2}\\\\\n",
        "$$\n",
        "\n",
        "$$\n",
        "or\\\\\n",
        "\\lim_{x \\rightarrow 0}\\frac{2x + x^2 + 5 x^5}{x + 3x^2 + 3 x^4 + 3x} = \\lim_{x \\rightarrow 0}\\frac{x(2 + x + 5 x^4)}{x(3x + 3 x^4 + 4)} = \\lim_{x \\rightarrow 0} \\frac{2 + x + 5 x^4}{3x + 3 x^3 + 4} = \\lim_{x \\rightarrow 0}\\frac{2 + 0 + 5(0)^4}{3(0) + 3(0)^3 + 4} = \\lim_{x \\rightarrow 0} \\frac{2}{4}= \\frac{1}{2}\n",
        "$$"
      ]
    }
  ]
}
