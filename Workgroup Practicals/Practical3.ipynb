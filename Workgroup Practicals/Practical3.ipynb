{
  "nbformat": 4,
  "nbformat_minor": 0,
  "metadata": {
    "colab": {
      "name": "Practical3_Calculus.ipynb",
      "provenance": [],
      "collapsed_sections": []
    },
    "kernelspec": {
      "name": "python3",
      "display_name": "Python 3"
    }
  },
  "cells": [
    {
      "cell_type": "markdown",
      "metadata": {
        "id": "o9dOyqvqFnuf"
      },
      "source": [
        "# Practical 3: Differentiation\n",
        "\n",
        "In this practical, we will learn how to take derivative of functions obtained by adding, multiplying, substractgind, dividing and composing a small set of \"elementary functions\". Differential caclulus gives a small set of rules for obtaining the derivative of these composite functions in terms of the derivatives of the elementary functions. The three main rules are linearity (which deal with sums and differences of functions), the product rule (which deal with products and divisions) and the chain rule (which deal with composition). \n",
        "\n",
        "## Linearity\n",
        "v and two numbers $a$ and $b$. We can write a linear combination of these two functions as follows:\n",
        "\n",
        "$$\n",
        "l(x) = a f(x) + b g(x)~.\n",
        "$$\n",
        "\n",
        "the linearity rule says that the derivative of a linear combination is just the linear combination of the derivatives:\n",
        "\n",
        "$$\n",
        "\\frac{\\text{d} l(x)}{\\text{d}x} = a \\frac{\\text{d} f(x)}{\\text{d}x} + b \\frac{\\text{d} g(x)}{\\text{d}x}\n",
        "$$\n",
        "\n",
        "### Solved exercise 1\n",
        "Use the linearity rule to find the derivative of the polynomial:\n",
        "\n",
        "$$\n",
        "p(x) = \\sum_{n=0}^N \\alpha_n x^n\n",
        "$$\n",
        "\n",
        "#### Solution\n",
        "We can start by writing down the polynomial and using the linearity rule to \"push\" the derivative inside the sum:\n",
        "\n",
        "$$\n",
        "\\frac{\\text{d} p(x)}{\\text{d}x} = \\frac{\\text{d}}{\\text{d}x} \\left( \\sum_{n=0}^N \\alpha_n x^n \\right) = \\sum_{n=0}^N \\alpha_n  \\frac{\\text{d}x^n}{\\text{d}x}\n",
        "$$\n",
        "\n",
        "We can now use the role for the derivative of a power function:\n",
        "\n",
        "$$\n",
        "\\frac{\\text{d}x^n}{\\text{d}x} = n x^{n-1}\n",
        "$$\n",
        "\n",
        "Hence, the derivative is another polynomial:\n",
        "\n",
        "$$\n",
        "\\frac{\\text{d} p(x)}{\\text{d}x} = \\sum_{n=1}^N \\alpha_n  n x^{n-1} \n",
        "$$\n",
        "\n",
        "Note that the sum now starts from one since:\n",
        "\n",
        "$$\n",
        "\\frac{\\text{d} x^0}{\\text{d}x} = \\frac{\\text{d} 1}{\\text{d}x} = 0\n",
        "$$"
      ]
    },
    {
      "cell_type": "markdown",
      "metadata": {
        "id": "KQW3HjFpFwl4"
      },
      "source": [
        "### Exercises 1\n",
        "Find the derivative of the following polynomials:\n",
        "- $p(x) = 7 + 2 x + 5 x^2$\n",
        "- $p(x) = 3 + 4 x^2 + 3 x^8$\n",
        "- $p(x) = 1 + 2 x + 3 x^2 + 4 x^3 + 5 x^4$\n",
        "- $p(x) = 3 x + x^7$\n",
        "\n",
        "#### Solutions\n",
        "- $2 + 10 x$\n",
        "- $8 x + 24 x^7$\n",
        "- $2 + 6 x + 12 x^2 + 20 x^3$\n",
        "- $3 + 7 x^6$"
      ]
    },
    {
      "cell_type": "markdown",
      "metadata": {
        "id": "iqzKOU1RFyk1"
      },
      "source": [
        "*Enter Ex 1.1 here*\n",
        "$$\n",
        "\\begin{align}\n",
        "f(x) &= 7 + 2x + 5x^2\n",
        "\\\\\n",
        "\\frac{\\text{d} f(x)} {\\text{d} x} &= \\frac{\\text{d} (7 + 2x + 5x^2)} {\\text{d} x} \n",
        "\\\\\n",
        "&= \\frac{\\text{d}(7)}{\\text{d} x} + \\frac{\\text{d} (2x)}{\\text{d} x} + \\frac{\\text{d} (5x^2)}{\\text{d} x}\n",
        "\\\\\n",
        "&= 0 + 2 + 10x \n",
        "\\\\ \n",
        "&= 2 + 10x\n",
        "\\end{align}\n",
        "$$"
      ]
    },
    {
      "cell_type": "markdown",
      "metadata": {
        "id": "5rBmIEkZKWGd"
      },
      "source": [
        "*Enter Ex 1.2 here*\n",
        "$$\n",
        "\\begin{align}\n",
        "f(x) &= 3 + 4x^2 +  3x^8\n",
        "\\\\\n",
        "\\frac{\\text{d} f(x)} {\\text{d} x} &= \\frac{\\text{d} (3 + 4x^2 + 3x^8)} {\\text{d} x} \n",
        "\\\\\n",
        "&= \\frac{\\text{d}(3)}{\\text{d} x} + \\frac{\\text{d} (4x^2)}{\\text{d} x} + \\frac{\\text{d} (3x^8)}{\\text{d} x}\n",
        "\\\\\n",
        "&= 0 + 8x + 24x^7 \n",
        "\\\\ \n",
        "&= 8x + 24x^7\n",
        "\\end{align}\n",
        "$$"
      ]
    },
    {
      "cell_type": "markdown",
      "metadata": {
        "id": "iTptb2ksKX2U"
      },
      "source": [
        "*Enter Ex 1.3 here*\n",
        "$$\n",
        "\\begin{align}\n",
        "f(x) &= 1 + 2 x + 3 x^2 + 4 x^3 + 5 x^4\n",
        "\\\\\n",
        "\\frac{\\text{d} f(x)} {\\text{d} x} &= \\frac{\\text{d} (1 + 2 x + 3 x^2 + 4 x^3 + 5 x^4)} {\\text{d} x} \n",
        "\\\\\n",
        "&= \\frac{\\text{d}(1)}{\\text{d} x} + \\frac{\\text{d} (2x)}{\\text{d} x} + \\frac{\\text{d} (3x^2)}{\\text{d} x}  + \\frac{\\text{d} (4x^3)}{\\text{d} x}  + \\frac{\\text{d} (5x^4)}{\\text{d} x}\n",
        "\\\\\n",
        "&= 0 + 2 + 6 x + 12 x^2 + 20 x^3\n",
        "\\\\ \n",
        "&= 2 + 6 x + 12 x^2 + 20 x^3\n",
        "\\end{align}\n",
        "$$"
      ]
    },
    {
      "cell_type": "markdown",
      "metadata": {
        "id": "CxOmGGSWKa3U"
      },
      "source": [
        "*Enter Ex 1.4 here*\n",
        "$$\n",
        "\\begin{align}\n",
        "f(x) &= 3 x + x^7\n",
        "\\\\\n",
        "\\frac{\\text{d} f(x)} {\\text{d} x} &= \\frac{\\text{d} (3 x + x^7)} {\\text{d} x} \n",
        "\\\\\n",
        "&= \\frac{\\text{d}(3x)}{\\text{d} x} + \\frac{\\text{d} (x^7)}{\\text{d} x} \n",
        "\\\\\n",
        "&= 3 + 7x^6\n",
        "\\end{align}\n",
        "$$"
      ]
    },
    {
      "cell_type": "markdown",
      "metadata": {
        "id": "9N9oZihHGMc_"
      },
      "source": [
        "### Python exercises 1\n",
        "plot all these functions together with their derivative. (Hint: You can use lambdas. Use the code in Practical 2)"
      ]
    },
    {
      "cell_type": "code",
      "metadata": {
        "id": "6f24l5G3GOCq",
        "outputId": "9bdbd5e1-e880-4d3d-9adb-e5d89313f5f0",
        "colab": {
          "base_uri": "https://localhost:8080/",
          "height": 287
        }
      },
      "source": [
        "# Python ex 1.1\n",
        "import numpy as np\n",
        "import matplotlib.pyplot as plt\n",
        "f = lambda x: 7 + 2*x + 5*x**2 \n",
        "g = lambda x: 2 + 10*x\n",
        "x_range = np.linspace(-10,10,100)\n",
        "plt.plot(x_range, [f(x) for x in x_range], label=\"7 + 2*x + 5*x**2\")\n",
        "plt.plot(x_range, [g(x) for x in x_range], label=\"2 + 10*x\")\n",
        "plt.xlim((-10,10))\n",
        "plt.ylim((-10,40))\n",
        "plt.legend(loc=\"best\")"
      ],
      "execution_count": 782,
      "outputs": [
        {
          "output_type": "execute_result",
          "data": {
            "text/plain": [
              "<matplotlib.legend.Legend at 0x7f5f02fc76d8>"
            ]
          },
          "metadata": {
            "tags": []
          },
          "execution_count": 782
        },
        {
          "output_type": "display_data",
          "data": {
            "image/png": "[encoded data removed]",
            "text/plain": [
              "<Figure size 432x288 with 1 Axes>"
            ]
          },
          "metadata": {
            "tags": [],
            "needs_background": "light"
          }
        }
      ]
    },
    {
      "cell_type": "code",
      "metadata": {
        "id": "6FIn7-xZKnUW",
        "outputId": "02208d3a-0e74-4fbf-b039-37c93c8598da",
        "colab": {
          "base_uri": "https://localhost:8080/",
          "height": 287
        }
      },
      "source": [
        "# Python ex 1.2\n",
        "f = lambda x: 3 + 4*x**2 + 3*x**8 \n",
        "g = lambda x: 8*x + 24*x**7\n",
        "plt.plot(x_range, [f(x) for x in x_range], label=\"3 + 4*x**2 + 3*x**8\")\n",
        "plt.plot(x_range, [g(x) for x in x_range], label=\"8x + 24*x**7\")\n",
        "plt.xlim((-10,10))\n",
        "plt.ylim((-10,40))\n",
        "plt.legend(loc=\"best\")"
      ],
      "execution_count": 783,
      "outputs": [
        {
          "output_type": "execute_result",
          "data": {
            "text/plain": [
              "<matplotlib.legend.Legend at 0x7f5f02c5ce48>"
            ]
          },
          "metadata": {
            "tags": []
          },
          "execution_count": 783
        },
        {
          "output_type": "display_data",
          "data": {
            "image/png": "[encoded data removed]",
            "text/plain": [
              "<Figure size 432x288 with 1 Axes>"
            ]
          },
          "metadata": {
            "tags": [],
            "needs_background": "light"
          }
        }
      ]
    },
    {
      "cell_type": "code",
      "metadata": {
        "id": "NXrIO3FLKoj0",
        "outputId": "62aa1fd6-75d6-4602-b01a-6f1d9c2e29b6",
        "colab": {
          "base_uri": "https://localhost:8080/",
          "height": 287
        }
      },
      "source": [
        "# Python ex 1.3\n",
        "f = lambda x: 1 + 2 + 3*x**2 + 4*x**3 + 5*x**4\n",
        "g = lambda x: 2 + 6*x + 12*x**2 + 20*x**3\n",
        "plt.plot(x_range, [f(x) for x in x_range], label=\"1 + 2 + 3*x**2 + 4*x**3 + 5*x**2\")\n",
        "plt.plot(x_range, [g(x) for x in x_range], label=\"2 + 6*x + 12*x**2 + 20*x**3\")\n",
        "plt.xlim((-10,10))\n",
        "plt.ylim((-10,40))\n",
        "plt.legend(loc=\"best\")"
      ],
      "execution_count": 784,
      "outputs": [
        {
          "output_type": "execute_result",
          "data": {
            "text/plain": [
              "<matplotlib.legend.Legend at 0x7f5f026c0dd8>"
            ]
          },
          "metadata": {
            "tags": []
          },
          "execution_count": 784
        },
        {
          "output_type": "display_data",
          "data": {
            "image/png": "[encoded data removed]",
            "text/plain": [
              "<Figure size 432x288 with 1 Axes>"
            ]
          },
          "metadata": {
            "tags": [],
            "needs_background": "light"
          }
        }
      ]
    },
    {
      "cell_type": "code",
      "metadata": {
        "id": "uLYSXufZKo4o",
        "outputId": "15f7d761-6ac3-4341-8f93-72fe6ab66d72",
        "colab": {
          "base_uri": "https://localhost:8080/",
          "height": 287
        }
      },
      "source": [
        "# Python ex 1.4\n",
        "f = lambda x: 3*x + x**7\n",
        "g = lambda x: 3 + 6*x**7 \n",
        "plt.plot(x_range, [f(x) for x in x_range], label=\"3x + x**7\")\n",
        "plt.plot(x_range, [g(x) for x in x_range], label=\"3 + 6*x**7\")\n",
        "plt.xlim((-10,10))\n",
        "plt.ylim((-10,40))\n",
        "plt.legend(loc=\"best\")"
      ],
      "execution_count": 785,
      "outputs": [
        {
          "output_type": "execute_result",
          "data": {
            "text/plain": [
              "<matplotlib.legend.Legend at 0x7f5f027794a8>"
            ]
          },
          "metadata": {
            "tags": []
          },
          "execution_count": 785
        },
        {
          "output_type": "display_data",
          "data": {
            "image/png": "[encoded data removed]",
            "text/plain": [
              "<Figure size 432x288 with 1 Axes>"
            ]
          },
          "metadata": {
            "tags": [],
            "needs_background": "light"
          }
        }
      ]
    },
    {
      "cell_type": "markdown",
      "metadata": {
        "id": "VwmjdIQFGUsF"
      },
      "source": [
        "## Product rule \n",
        "Consider two functions $f(x)$ and $g(x)$, the derivative of their product is given by the product rule:\n",
        "\n",
        "$$\n",
        "\\frac{\\text{d} f(x) g(x)}{\\text{d}x} = \\frac{\\text{d} f(x)}{\\text{d}x} g(x) + f(x) \\frac{\\text{d} g(x)}{\\text{d}x} \n",
        "$$\n",
        "\n",
        "### Solved exercise 2\n",
        "Use the product rule to derive the formula for the derivative of a power:\n",
        "\n",
        "$$\n",
        "\\frac{\\text{d}x^n}{\\text{d}x} = n x^{n-1}\n",
        "$$\n",
        "\n",
        "#### Solution\n",
        "First of all, let's write the power as a product of two terms:\n",
        "\n",
        "$$\n",
        "\\frac{\\text{d}x^n}{\\text{d}x} = \\frac{\\text{d}x x^{n-1}}{\\text{d}x}\n",
        "$$\n",
        "\n",
        "We can now use the product rule:\n",
        "\n",
        "$$\n",
        "\\frac{\\text{d}x x^{n-1}}{\\text{d}x} = \\frac{\\text{d}x}{\\text{d}x} x^{n-1} + x \\frac{\\text{d}x^{n-1}}{\\text{d}x} = x^{n-1} + x \\frac{\\text{d}x^{n-1}}{\\text{d}x}\n",
        "$$\n",
        "\n",
        "We now have an answer in terms of the derivative of another power, let's therefore use the product rule again:\n",
        "\n",
        "$$\n",
        "x^{n-1} + x \\frac{\\text{d}x^{n-1}}{\\text{d}x} = x^{n-1} + x \\left( x^{n-2} + x \\frac{\\text{d}x^{n-2}}{\\text{d}x} \\right) = x^{n-1} + x^{n-1} + x \\frac{\\text{d}x^{n-2}}{\\text{d}x} = 2 x^{n-1} + x \\frac{\\text{d}x^{n-2}}{\\text{d}x}\n",
        "$$\n",
        "\n",
        "We can now keep applying this formula other $n - 2$ times until we get $\\frac{\\text{d}x^{n-n}}{\\text{d}x} = 0$. The result is\n",
        "\n",
        "$$\n",
        "\\frac{\\text{d}x^n}{\\text{d}x} = x^{n-1} + \\dots + x^{n-1} = n x^{n-1}\n",
        "$$"
      ]
    },
    {
      "cell_type": "markdown",
      "metadata": {
        "id": "VYtT8BytGZjW"
      },
      "source": [
        "### Exercises 2\n",
        "Find the derivative of the following functions:\n",
        "- $f(x) = \\sin(x) x^2$\n",
        "- $f(x) = \\exp(x) \\cos(x)$\n",
        "- $f(x) = x \\exp(x) + x^2 \\cos(x)$\n",
        "- $f(x) = \\tan(x)^2$\n",
        "- $f(x) = e^{2x} + \\sin(x) x^3$\n",
        "- $f(x) = e^{x} \\left(2 \\cos(x) + 0.5 \\sin(x)\\right)$\n",
        "- $f(x) = \\log(x)^2$\n",
        "\n",
        "Remember that:\n",
        "- $\\frac{\\text{d}\\exp(x)}{\\text{d}x} = \\exp(x)$\n",
        "- $\\frac{\\text{d}\\sin(x)}{\\text{d}x} = \\cos(x)$\n",
        "- $\\frac{\\text{d}\\cos(x)}{\\text{d}x} = -\\sin(x)$\n",
        "- $\\frac{\\text{d}\\log(x)}{\\text{d}x} = 1/|x|$\n",
        "- $\\frac{\\text{d}\\tan(x)}{\\text{d}x} = 1/\\cos(x)^2$\n",
        "\n",
        "#### Solutions\n",
        "- $\\cos(x) x^2 + 2 \\sin(x) x$\n",
        "- $\\exp(x) \\left(\\cos(x) - \\sin(x) \\right)$\n",
        "- $\\exp(x) (1 + x) + 2x \\cos(x) - x^2 \\sin(x)$\n",
        "- $2 \\tan(x)/\\cos(x)^2$\n",
        "- $2 \\exp(2x) + \\cos(x) x^3 + 3 \\sin(x) x^2$\n",
        "- $\\exp(x) \\left(2.5 \\cos(x) - 1.5 \\sin(x)  \\right)$\n",
        "- $ 2\\frac{1}{|x|}\\log(x)$"
      ]
    },
    {
      "cell_type": "markdown",
      "metadata": {
        "id": "GZ_hZwdHGvGr"
      },
      "source": [
        "*Enter Ex 2.1 here*\n",
        "$$\n",
        "\\begin{align}\n",
        "f(x) &= sin(x)x^2\n",
        "\\\\\n",
        "\\frac{\\text{d} f(x)} {\\text{d} x} &= \\frac{\\text{d} sin(x)x^2} {\\text{d} x} \n",
        "\\\\\n",
        "&=\\cos(x)\\cdot x^2 + \\sin(x)\\cdot 2x\\\\\n",
        "&= \\cos(x) x^2 + 2 \\sin(x) x\n",
        "\\end{align}\n",
        "$$"
      ]
    },
    {
      "cell_type": "markdown",
      "metadata": {
        "id": "ZBWP5gbuK6Wc"
      },
      "source": [
        "*Enter Ex 2.2 here*\n",
        "exp(x)*cos(x) + -sin(x)*exp(x)\n",
        "$$\n",
        "\\begin{align}\n",
        "f(x) &= \\exp(x) \\cos(x)\n",
        "\\\\\n",
        "\\frac{\\text{d} f(x)} {\\text{d} x} &= \\frac{\\text{d} \\exp(x) \\cos(x)} {\\text{d} x} \n",
        "\\\\\n",
        "&= \\exp(x)\\cdot \\cos(x) + -\\sin(x) \\cdot \\exp(x)\\\\\n",
        "&= \\exp(x) \\left(\\cos(x) - \\sin(x) \\right)\n",
        "\\end{align}\n",
        "$$"
      ]
    },
    {
      "cell_type": "markdown",
      "metadata": {
        "id": "nSDJo0RCK8MY"
      },
      "source": [
        "*Enter Ex 2.3 here*\n",
        "$$\n",
        "\\begin{align}\n",
        "f(x) &= x \\exp(x) + x^2 \\cos(x)\n",
        "\\\\\n",
        "\\frac{\\text{d} f(x)} {\\text{d} x} &= \\frac{\\text{d} x \\exp(x) + x^2 \\cos(x)} {\\text{d} x} \n",
        "\\\\\n",
        "&= (1 \\cdot \\exp(x) + x\\cdot \\exp(x)) + (2x \\cdot \\cos(x) + x^2 \\cdot -\\sin(x)) \\\\\n",
        "&= \\exp(x) (1 + x) + 2x \\cos(x) - x^2 \\sin(x)\n",
        "\\end{align}\n",
        "$$"
      ]
    },
    {
      "cell_type": "markdown",
      "metadata": {
        "id": "zU-rz_cEK8ye"
      },
      "source": [
        "*Enter Ex 2.4 here*\n",
        "$$\n",
        "\\begin{align}\n",
        "f(x) &= \\tan(x)^2 = \\tan(x) \\cdot \\tan(x)\n",
        "\\\\\n",
        "\\frac{\\text{d} f(x)} {\\text{d} x} &=  \\tan(x) \\cdot \\frac{1}{\\cos(x)^2} + \\frac{1}{\\cos(x)^2} \\cdot \\tan(x)\n",
        "\\\\\n",
        "&= \\frac{\\tan(x)}{\\cos(x)^2} + \\frac{\\tan(x)}{\\cos(x)^2}\\\\\n",
        "&= 2 \\tan(x)/\\cos(x)^2\n",
        "\\end{align}\n",
        "$$"
      ]
    },
    {
      "cell_type": "markdown",
      "metadata": {
        "id": "caTO3wgZK9Ie"
      },
      "source": [
        "*Enter Ex 2.5 here*\n",
        "$$\n",
        "\\begin{align}\n",
        "f(x) &= e^{2x} + \\sin(x) x^3\n",
        "\\\\\n",
        "\\frac{\\text{d} f(x)} {\\text{d} x} &= 2 \\exp(x)^{2x} + cos(x) \\cdot x^3 + sin(x) \\cdot 3x^2\n",
        "\\\\\n",
        "&= 2 \\exp(2x) + \\cos(x) x^3 + 3 \\sin(x) x^2\n",
        "\\end{align}\n",
        "$$"
      ]
    },
    {
      "cell_type": "markdown",
      "metadata": {
        "id": "1HIE4RnhK9b6"
      },
      "source": [
        "*Enter Ex 2.6 here*\n",
        "​​\n",
        "$$\n",
        "\\begin{align}\n",
        "f(x) &= e^{x} \\left(2 \\cos(x) + 0.5 \\sin(x)\\right)\n",
        "\\\\\n",
        "\\frac{\\text{d} f(x)} {\\text{d} x} &= \\exp(x)\\cdot (2\\cos(x) + 0.5\\sin(x)) + \\exp(x) \\cdot (-2\\sin(x) + 0.5 \\cos(x))\n",
        "\\\\\n",
        "&= \\exp(x) \\left(2.5 \\cos(x) - 1.5 \\sin(x)  \\right)\n",
        "\\end{align}\n",
        "$$"
      ]
    },
    {
      "cell_type": "markdown",
      "metadata": {
        "id": "HzbXjNpWK9wh"
      },
      "source": [
        "*Enter Ex 2.7 here*\n",
        "$$\n",
        "\\begin{align}\n",
        "f(x) &= \\log(x)^2 = \\log(x) \\cdot \\log(x)\n",
        "\\\\\n",
        "\\frac{\\text{d} f(x)} {\\text{d} x} &= \\log(x)  \\cdot \\frac{1}{|x|} + \\frac{1}{|x|} \\cdot \\log(x)\n",
        "\\\\\n",
        "&= 2\\frac{1}{|x|}\\log(x)\n",
        "\\end{align}\n",
        "$$"
      ]
    },
    {
      "cell_type": "markdown",
      "metadata": {
        "id": "SNjHFC7bLJ4-"
      },
      "source": [
        "### Python exercises 2\n",
        "plot all these functions together with their derivative. (Hint: You can use lambdas. Use the code in Practical 2. )"
      ]
    },
    {
      "cell_type": "code",
      "metadata": {
        "id": "rx9yJc1SOEQD"
      },
      "source": [
        "# import a library with lots of math function and more -> Use np.sin, np.exp, np.log and so on for computing sin, exponential and logarithm \n",
        "import numpy as np\n",
        "x_range = np.linspace(-10,10,100)"
      ],
      "execution_count": 786,
      "outputs": []
    },
    {
      "cell_type": "code",
      "metadata": {
        "id": "ooopf4_xLKhJ",
        "outputId": "14ee739e-7279-4b55-cef3-7bf95641ac72",
        "colab": {
          "base_uri": "https://localhost:8080/",
          "height": 287
        }
      },
      "source": [
        "# Python ex 2.1\n",
        "f = lambda x: np.sin(x)*x**2\n",
        "g = lambda x: np.cos(x)*x**2+2*np.sin(x)*x\n",
        "plt.plot(x_range, [f(x) for x in x_range])\n",
        "plt.plot(x_range, [g(x) for x in x_range])\n",
        "plt.xlim((-10,10))\n",
        "plt.ylim((-10,40))"
      ],
      "execution_count": 787,
      "outputs": [
        {
          "output_type": "execute_result",
          "data": {
            "text/plain": [
              "(-10.0, 40.0)"
            ]
          },
          "metadata": {
            "tags": []
          },
          "execution_count": 787
        },
        {
          "output_type": "display_data",
          "data": {
            "image/png": "[encoded data removed]",
            "text/plain": [
              "<Figure size 432x288 with 1 Axes>"
            ]
          },
          "metadata": {
            "tags": [],
            "needs_background": "light"
          }
        }
      ]
    },
    {
      "cell_type": "code",
      "metadata": {
        "id": "70hPdY8mLV6j",
        "outputId": "4f8f7bb0-5eff-439c-81da-d59d85588439",
        "colab": {
          "base_uri": "https://localhost:8080/",
          "height": 287
        }
      },
      "source": [
        "# Python ex 2.2\n",
        "f = lambda x: np.exp(x)*np.cos(x)\n",
        "g = lambda x: np.exp(x)*(np.cos(x)-np.sin(x))\n",
        "plt.plot(x_range, [f(x) for x in x_range])\n",
        "plt.plot(x_range, [g(x) for x in x_range])\n",
        "plt.xlim((-10,10))\n",
        "plt.ylim((-10,40))\n"
      ],
      "execution_count": 788,
      "outputs": [
        {
          "output_type": "execute_result",
          "data": {
            "text/plain": [
              "(-10.0, 40.0)"
            ]
          },
          "metadata": {
            "tags": []
          },
          "execution_count": 788
        },
        {
          "output_type": "display_data",
          "data": {
            "image/png": "[encoded data removed]",
            "text/plain": [
              "<Figure size 432x288 with 1 Axes>"
            ]
          },
          "metadata": {
            "tags": [],
            "needs_background": "light"
          }
        }
      ]
    },
    {
      "cell_type": "code",
      "metadata": {
        "id": "APjPuMVULWXp",
        "outputId": "e7b000bf-1ea2-44a0-fa81-849400ef5211",
        "colab": {
          "base_uri": "https://localhost:8080/",
          "height": 287
        }
      },
      "source": [
        "# Python ex 2.3\n",
        "f = lambda x: x*np.exp(x)+x**2*np.cos(x)\n",
        "g = lambda x: np.exp(x)*(1 + x)*2*x*np.cos(x)-x**2*np.sin(x)\n",
        "plt.plot(x_range, [f(x) for x in x_range])\n",
        "plt.plot(x_range, [g(x) for x in x_range])\n",
        "plt.xlim((-10,10))\n",
        "plt.ylim((-10,40))\n"
      ],
      "execution_count": 789,
      "outputs": [
        {
          "output_type": "execute_result",
          "data": {
            "text/plain": [
              "(-10.0, 40.0)"
            ]
          },
          "metadata": {
            "tags": []
          },
          "execution_count": 789
        },
        {
          "output_type": "display_data",
          "data": {
            "image/png": "[encoded data removed]",
            "text/plain": [
              "<Figure size 432x288 with 1 Axes>"
            ]
          },
          "metadata": {
            "tags": [],
            "needs_background": "light"
          }
        }
      ]
    },
    {
      "cell_type": "code",
      "metadata": {
        "id": "QkOwbsoPLWo6",
        "outputId": "e627c041-2bfe-44bd-f72d-7e7601ecdd6a",
        "colab": {
          "base_uri": "https://localhost:8080/",
          "height": 287
        }
      },
      "source": [
        "# Python ex 2.4\n",
        "f = lambda x: np.tan(x)**2\n",
        "g = lambda x: 2*np.tan(x) / np.cos(x)**2\n",
        "#x_range = np.linspace(-10,10,100)\n",
        "plt.plot(x_range, [f(x) for x in x_range])\n",
        "plt.plot(x_range, [g(x) for x in x_range])\n",
        "plt.xlim((-10,10))\n",
        "plt.ylim((-10,40))"
      ],
      "execution_count": 790,
      "outputs": [
        {
          "output_type": "execute_result",
          "data": {
            "text/plain": [
              "(-10.0, 40.0)"
            ]
          },
          "metadata": {
            "tags": []
          },
          "execution_count": 790
        },
        {
          "output_type": "display_data",
          "data": {
            "image/png": "[encoded data removed]",
            "text/plain": [
              "<Figure size 432x288 with 1 Axes>"
            ]
          },
          "metadata": {
            "tags": [],
            "needs_background": "light"
          }
        }
      ]
    },
    {
      "cell_type": "code",
      "metadata": {
        "id": "R04B47u7LW7M",
        "outputId": "2508d8ff-4b83-40ae-a665-c388a1cc27ae",
        "colab": {
          "base_uri": "https://localhost:8080/",
          "height": 287
        }
      },
      "source": [
        "# Python ex 2.5\n",
        "f = lambda x: np.exp(2*x)+np.sin(x)*x**3\n",
        "g = lambda x: 2*np.exp(2*x)+np.cos(x)*x**3+3*np.sin(x)*x**2\n",
        "plt.plot(x_range, [f(x) for x in x_range])\n",
        "plt.plot(x_range, [g(x) for x in x_range])\n",
        "plt.xlim((-10,10))\n",
        "plt.ylim((-10,40))"
      ],
      "execution_count": 791,
      "outputs": [
        {
          "output_type": "execute_result",
          "data": {
            "text/plain": [
              "(-10.0, 40.0)"
            ]
          },
          "metadata": {
            "tags": []
          },
          "execution_count": 791
        },
        {
          "output_type": "display_data",
          "data": {
            "image/png": "[encoded data removed]",
            "text/plain": [
              "<Figure size 432x288 with 1 Axes>"
            ]
          },
          "metadata": {
            "tags": [],
            "needs_background": "light"
          }
        }
      ]
    },
    {
      "cell_type": "code",
      "metadata": {
        "id": "mgKnfEt8LXNO",
        "outputId": "33fde64f-8ff0-498a-f22b-074e2932ecb7",
        "colab": {
          "base_uri": "https://localhost:8080/",
          "height": 287
        }
      },
      "source": [
        "# Python ex 2.6\n",
        "f = lambda x: np.exp(x)*(2*np.cos(x) + 0.5*np.sin(x))\n",
        "g = lambda x: np.exp(x)*(2.5*np.cos(x)-1.5*np.sin(x))\n",
        "plt.plot(x_range, [f(x) for x in x_range])\n",
        "plt.plot(x_range, [g(x) for x in x_range])\n",
        "plt.xlim((-10,10))\n",
        "plt.ylim((-10,40))"
      ],
      "execution_count": 792,
      "outputs": [
        {
          "output_type": "execute_result",
          "data": {
            "text/plain": [
              "(-10.0, 40.0)"
            ]
          },
          "metadata": {
            "tags": []
          },
          "execution_count": 792
        },
        {
          "output_type": "display_data",
          "data": {
            "image/png": "[encoded data removed]",
            "text/plain": [
              "<Figure size 432x288 with 1 Axes>"
            ]
          },
          "metadata": {
            "tags": [],
            "needs_background": "light"
          }
        }
      ]
    },
    {
      "cell_type": "code",
      "metadata": {
        "id": "fsH5RBqZLXgM",
        "outputId": "12e5d3a6-4c82-44da-fb45-858e32ede3f2",
        "colab": {
          "base_uri": "https://localhost:8080/",
          "height": 358
        }
      },
      "source": [
        "# Python ex 2.7\n",
        "f = lambda x: np.log(x)**2\n",
        "g = lambda x: 2*1/np.abs(x)*np.log(x)\n",
        "plt.plot(x_range, [f(x) for x in x_range])\n",
        "plt.plot(x_range, [g(x) for x in x_range])\n",
        "plt.xlim((-10,10))\n",
        "plt.ylim((-10,40))\n"
      ],
      "execution_count": 793,
      "outputs": [
        {
          "output_type": "stream",
          "text": [
            "/usr/local/lib/python3.6/dist-packages/ipykernel_launcher.py:2: RuntimeWarning: invalid value encountered in log\n",
            "  \n",
            "/usr/local/lib/python3.6/dist-packages/ipykernel_launcher.py:3: RuntimeWarning: invalid value encountered in log\n",
            "  This is separate from the ipykernel package so we can avoid doing imports until\n"
          ],
          "name": "stderr"
        },
        {
          "output_type": "execute_result",
          "data": {
            "text/plain": [
              "(-10.0, 40.0)"
            ]
          },
          "metadata": {
            "tags": []
          },
          "execution_count": 793
        },
        {
          "output_type": "display_data",
          "data": {
            "image/png": "[encoded data removed]",
            "text/plain": [
              "<Figure size 432x288 with 1 Axes>"
            ]
          },
          "metadata": {
            "tags": [],
            "needs_background": "light"
          }
        }
      ]
    },
    {
      "cell_type": "markdown",
      "metadata": {
        "id": "4fLbzLHpLieU"
      },
      "source": [
        "## Chain rule \n",
        "Consider two functions $y(x)$ and $f(y)$. The composite function is a function of $x$ obtained by applying $y(x)$ first and then $f(y)$ on the output:\n",
        "\n",
        "$$\n",
        "f(y(x))\n",
        "$$\n",
        "\n",
        "$$\n",
        "\\frac{\\text{d}f(y(x))}{\\text{d}x} = \\frac{\\text{d}f(y(x))}{\\text{d}y(x)} \\frac{\\text{d}y(x)}{\\text{d} x}\n",
        "$$\n",
        "\n",
        "where $\\frac{\\text{d}f(y(x))}{\\text{d}y(x)}$ is the regular derivative $\\frac{\\text{d}f(y)}{\\text{d}y}$ evaluated at the point $y = y(x)$. For example:\n",
        "\n",
        "$$\n",
        "\\frac{\\text{d}\\cos(\\exp(x))}{\\text{d}\\exp(x)} = \\sin(\\exp(x))\n",
        "$$\n",
        "\n",
        "Therefore:\n",
        "\n",
        "$$\n",
        "\\frac{\\text{d}\\cos(\\exp(x))}{\\text{d}x} = \\frac{\\text{d}\\cos(\\exp(x))}{\\text{d}\\exp(x)} \\frac{\\text{d}\\exp(x))}{\\text{d}x} = \\sin(\\exp(x)) \\exp(x)\n",
        "$$\n",
        "\n",
        "### Solved exercise 3\n",
        "Find the derivative of\n",
        "\n",
        "$$\n",
        "g(x) = 1/\\sin(x)\n",
        "$$\n",
        "\n",
        "Hint: (Write this function as the composition of two functions.\n",
        "\n",
        "#### Solution\n",
        "let's write $g(x)$ as\n",
        "\n",
        "$$\n",
        "g(x) = f(y(x))\n",
        "$$\n",
        "\n",
        "where $y(x) = \\sin(x)$ and $f(y) = 1/y$. We can now use the chain rule:\n",
        "\n",
        "$$\n",
        "\\frac{\\text{d}f(y(x))}{\\text{d}x} = \\frac{\\text{d}f(y(x))}{\\text{d}y(x)} \\frac{\\text{d}y(x)}{\\text{d} x} = - \\frac{1}{y(x)^2} \\frac{\\text{d}y(x)}{\\text{d} x} = - \\frac{1}{\\sin(x)^2} (- \\cos(x)) = \\frac{\\cos(x)}{\\sin(x)^2}\n",
        "$$\n",
        "\n",
        "where we use the rule for the derivative of $1/y$:\n",
        "\n",
        "$$\n",
        "\\frac{\\text{d}1/y}{\\text{d}y} = - \\frac{1}{y^2}\n",
        "$$"
      ]
    },
    {
      "cell_type": "markdown",
      "metadata": {
        "id": "5x2q3_k8LntG"
      },
      "source": [
        "### Bonus exercise\n",
        "\n",
        "Use the chain rule and the product rule to derive the quotient rule:\n",
        "\n",
        "$$\n",
        "\\frac{\\text{d}f(x)/g(x)}{\\text{d}y} = \\frac{\\frac{\\text{d}f(x)}{\\text{d}x} g(x) - f(x) \\frac{\\text{d}g(x)}{\\text{d}x} }{g(x)^2}\n",
        "$$\n",
        "\n",
        "Hint: You should use the same technique of the previous solved exercise."
      ]
    },
    {
      "cell_type": "markdown",
      "metadata": {
        "id": "iN3yP0OMLsIG"
      },
      "source": [
        "*(Optional) Enter bonus exercise here*"
      ]
    },
    {
      "cell_type": "markdown",
      "metadata": {
        "id": "r64_lf5IL507"
      },
      "source": [
        "### Exercises 3\n",
        "\n",
        "Find the derivative of the following functions using the Chain rule:\n",
        "- $f(x) = 1/\\exp(x)$\n",
        "- $f(x) = e^{\\cos(x)}$\n",
        "- $f(x) = \\cos(x)^2$\n",
        "- $f(x) = \\exp \\left( \\sin(2x + 4x^5 + 8 x^6)^2 \\right)$\n",
        "- $f(x) = e^{3\\sin(x) + 2 \\cos(x) + x^3}$\n",
        "- $f(x) = - 0.5 (z - \\phi(x))^2$ (where $z$ is a number and $\\phi(x)$ is a function with derivative $\\phi'(x)$)\n",
        "- $f(x) = \\cos(\\phi(x))$\n",
        "- $f(x) = \\log(\\phi(x))$\n",
        "\n",
        "\n",
        "Solutions:\n",
        "- $- 1/\\exp(x)$\n",
        "- $- \\sin(x) e^{\\cos(x)}$\n",
        "- $- 2 \\cos(x) \\sin(x)$\n",
        "- $ 2 \\exp \\left( \\sin(2x + 4x^5 + 8 x^6)^2 \\right) \\sin(2x + 4x^5 + 8 x^6) \\cos(2x + 4x^5 + 8 x^6) (2 + 20 x^4 + 48 x^5)$\n",
        "- $e^{3\\sin(x) + 2 \\cos(x) + x^3} \\left(3 \\cos(x) - 2 \\sin(x) + 3 x^2 \\right)$\n",
        "- $ (z - \\phi(x)) \\phi'(x)$\n",
        "- $-\\sin(\\phi(x)) \\phi'(x)$\n",
        "- $\\frac{\\phi'(x)}{|\\phi(x)|}$"
      ]
    },
    {
      "cell_type": "markdown",
      "metadata": {
        "id": "pXuB5n6lL9Yi"
      },
      "source": [
        "*Enter Ex 3.1 here*\n",
        "$$\n",
        "f(x) = \\frac{1}{exp(x)} = (e^{x})^{-1}  = e^{-1}\\\\\n",
        "$$\n",
        "$$\n",
        "\\frac{\\text{df(x)}}{\\text{dx}} = -1 \\cdot e^{-x} = - \\frac{1}{e^{x}}\\\\\n",
        "$$"
      ]
    },
    {
      "cell_type": "markdown",
      "metadata": {
        "id": "G_TDdwsQMErT"
      },
      "source": [
        "*Enter Ex 3.2 here*\n",
        "$$f(x) = e^{\\cos(x)}\\\\$$\n",
        "$$\n",
        "\\frac{\\text{df(x)}}{\\text{dx}} = -1 \\cdot e^{-x} = e^{cos(x)} \\cdot (-\\sin(x))\\\\\n",
        "$$\n",
        "\n",
        "$$\n",
        "- \\sin(x) \\cdot e^{cos(x)}\n",
        "$$\n",
        "\n"
      ]
    },
    {
      "cell_type": "markdown",
      "metadata": {
        "id": "Gt5q7vjmMFLz"
      },
      "source": [
        "*Enter Ex 3.3 here*\n",
        "$$f(x) = \\cos(x)^{2}\\\\$$\n",
        "$$\n",
        "\\frac{\\text{df(x)}}{\\text{dx}} = 2\\cos(x) \\cdot -\\sin(x)\\\\\n",
        "$$\n",
        "\n",
        "$$\n",
        "= -2\\cos(x) \\cdot \\sin(x)\\\\\n",
        "$$\n",
        "\n",
        "\n"
      ]
    },
    {
      "cell_type": "markdown",
      "metadata": {
        "id": "cgEopfuKMFfM"
      },
      "source": [
        "*Enter Ex 3.4 here*\n",
        "$$f(x) = \\exp \\left( \\sin(2x + 4x^5 + 8 x^6)^2 \\right)$$\n",
        "\n",
        "$$\n",
        "\\frac{\\text{df(x)}}{\\text{dx}}(e^{x^{2}}) = e^{x^{2}} \\cdot (2 + 20x^{4} + 48x^{5})\\\\\n",
        "$$\n",
        "\n",
        "$$\n",
        "= 2 \\exp \\left( \\sin(2x + 4x^5 + 8 x^6)^2 \\right) \\sin(2x + 4x^5 + 8 x^6) \\cos(2x + 4x^5 + 8 x^6) (2 + 20 x^4 + 48 x^5)\\\\\n",
        "$$"
      ]
    },
    {
      "cell_type": "markdown",
      "metadata": {
        "id": "wBixiZE6MFxc"
      },
      "source": [
        "*Enter Ex 3.5 here*\n",
        "$$f(x) = e^{3\\sin(x) + 2 \\cos(x) + x^3}$$\n",
        "\n",
        "$$\n",
        "\\frac{\\text{df(x)}}{\\text{dx}} = e^{x} \\cdot (3 \\cdot cos(x) - \\sin(x) + 3x^{2})\\\\\n",
        "$$\n",
        "\n",
        "$$\n",
        "= e^{3\\sin(x) + 2 \\cos(x) + x^3} \\left(3 \\cos(x) - 2 \\sin(x) + 3 x^2 \\right)\n",
        "$$\n"
      ]
    },
    {
      "cell_type": "markdown",
      "metadata": {
        "id": "j-2aWAtxMGCx"
      },
      "source": [
        "*Enter Ex 3.6 here*\n",
        "$$f(x) = - 0.5 (z - \\phi(x))^2$$\n",
        "$$\n",
        "\\frac{\\text{df(x)}}{\\text{dx}} = -(z - \\phi(x)) \\cdot (0 - \\phi'(x)\\\\\n",
        "$$\n",
        "\n",
        "$$\n",
        "=-(z - \\phi(x)) \\cdot -\\phi'(x)\\\\\n",
        "$$\n",
        "$$\n",
        "= (z - \\phi(x)) \\cdot \\phi'(x)\\\\\n",
        "$$\n"
      ]
    },
    {
      "cell_type": "markdown",
      "metadata": {
        "id": "3p17gVOLMGUd"
      },
      "source": [
        "*Enter Ex 3.7 here*\n",
        "$$f(x) = \\cos(\\phi(x))$$\n",
        "\n",
        "$$\n",
        "\\frac{\\text{df(x)}}{\\text{dx}} = -\\sin(\\phi(x)) \\cdot \\phi'(x)\n",
        "$$\n",
        "\n",
        "$$ =-\\sin(\\phi(x)) \\phi'(x)$$"
      ]
    },
    {
      "cell_type": "markdown",
      "metadata": {
        "id": "WGDkyxjWMGoa"
      },
      "source": [
        "*Enter Ex 3.8 here*\n",
        "$$f(x) = \\log(\\phi(x))$$\n",
        "\n",
        "$$\n",
        "\\frac{\\text{d}{\\log(\\phi(x))}}{\\text{dx}} = \\frac{1}{\\phi(x)} \\cdot \\phi(x)\n",
        "$$\n",
        "\n",
        "$$\n",
        "= \\frac{\\phi'(x)}{|\\phi(x)|}\n",
        "$$"
      ]
    },
    {
      "cell_type": "markdown",
      "metadata": {
        "id": "jfmhfsuEMX9F"
      },
      "source": [
        "### Python exercises 3\n",
        "plot all these functions together with their derivative. (Hint: You can use lambdas. Use the code in Practical 2). You can use $\\phi(x) = e^{-x^2}$."
      ]
    },
    {
      "cell_type": "code",
      "metadata": {
        "id": "SRGumMCwMaMk",
        "outputId": "a2306ec1-5930-4897-c178-bc953c8400e8",
        "colab": {
          "base_uri": "https://localhost:8080/",
          "height": 287
        }
      },
      "source": [
        "# Python Ex 3.1\n",
        "f = lambda x: 1/np.exp(x)\n",
        "g = lambda x: -1/np.exp(x)\n",
        "plt.plot(x_range, [f(x) for x in x_range])\n",
        "plt.plot(x_range, [g(x) for x in x_range])\n",
        "plt.xlim((-10,10))\n",
        "plt.ylim((-10,40))"
      ],
      "execution_count": 794,
      "outputs": [
        {
          "output_type": "execute_result",
          "data": {
            "text/plain": [
              "(-10.0, 40.0)"
            ]
          },
          "metadata": {
            "tags": []
          },
          "execution_count": 794
        },
        {
          "output_type": "display_data",
          "data": {
            "image/png": "[encoded data removed]",
            "text/plain": [
              "<Figure size 432x288 with 1 Axes>"
            ]
          },
          "metadata": {
            "tags": [],
            "needs_background": "light"
          }
        }
      ]
    },
    {
      "cell_type": "code",
      "metadata": {
        "id": "GjYN9aAvMfUq",
        "outputId": "fe2a88fa-f306-42f8-ed84-5b56b7224165",
        "colab": {
          "base_uri": "https://localhost:8080/",
          "height": 287
        }
      },
      "source": [
        "# Python Ex 3.2\n",
        "f = lambda x: np.exp(np.cos(x))\n",
        "g = lambda x: -np.sin(np.exp(np.cos(x)))\n",
        "plt.plot(x_range, [f(x) for x in x_range])\n",
        "plt.plot(x_range, [g(x) for x in x_range])\n",
        "plt.xlim((-10,10))\n",
        "plt.ylim((-10,40))"
      ],
      "execution_count": 795,
      "outputs": [
        {
          "output_type": "execute_result",
          "data": {
            "text/plain": [
              "(-10.0, 40.0)"
            ]
          },
          "metadata": {
            "tags": []
          },
          "execution_count": 795
        },
        {
          "output_type": "display_data",
          "data": {
            "image/png": "[encoded data removed]",
            "text/plain": [
              "<Figure size 432x288 with 1 Axes>"
            ]
          },
          "metadata": {
            "tags": [],
            "needs_background": "light"
          }
        }
      ]
    },
    {
      "cell_type": "code",
      "metadata": {
        "id": "qrTwQ8jFMgBp",
        "outputId": "e0ac4e00-1e52-405f-e929-189a68489470",
        "colab": {
          "base_uri": "https://localhost:8080/",
          "height": 287
        }
      },
      "source": [
        "# Python Ex 3.3\n",
        "f = lambda x: np.cos(x)**2\n",
        "g = lambda x: -2*np.cos(x)*np.sin(x)\n",
        "plt.plot(x_range, [f(x) for x in x_range])\n",
        "plt.plot(x_range, [g(x) for x in x_range])\n",
        "plt.xlim((-10,10))\n",
        "plt.ylim((-10,40))"
      ],
      "execution_count": 796,
      "outputs": [
        {
          "output_type": "execute_result",
          "data": {
            "text/plain": [
              "(-10.0, 40.0)"
            ]
          },
          "metadata": {
            "tags": []
          },
          "execution_count": 796
        },
        {
          "output_type": "display_data",
          "data": {
            "image/png": "[encoded data removed]",
            "text/plain": [
              "<Figure size 432x288 with 1 Axes>"
            ]
          },
          "metadata": {
            "tags": [],
            "needs_background": "light"
          }
        }
      ]
    },
    {
      "cell_type": "code",
      "metadata": {
        "id": "10-UHdY2MgsK",
        "outputId": "aec5ac02-2006-4151-d7ec-2991de061259",
        "colab": {
          "base_uri": "https://localhost:8080/",
          "height": 287
        }
      },
      "source": [
        "# Python Ex 3.4\n",
        "f = lambda x: np.exp(np.sin(2*x+4*x**5+8*x**6)**2)\n",
        "g = lambda x: 2*np.exp(np.sin(2*x+4*x**5+8*x**6)**2*(np.sin(2*x+4*x**5+8*x**6)*np.cos(2 + 20*x**4 + 48*x**5)))\n",
        "plt.plot(x_range, [f(x) for x in x_range])\n",
        "plt.plot(x_range, [g(x) for x in x_range])\n",
        "plt.xlim((-10,10))\n",
        "plt.ylim((-10,40))"
      ],
      "execution_count": 797,
      "outputs": [
        {
          "output_type": "execute_result",
          "data": {
            "text/plain": [
              "(-10.0, 40.0)"
            ]
          },
          "metadata": {
            "tags": []
          },
          "execution_count": 797
        },
        {
          "output_type": "display_data",
          "data": {
            "image/png": "[encoded data removed]",
            "text/plain": [
              "<Figure size 432x288 with 1 Axes>"
            ]
          },
          "metadata": {
            "tags": [],
            "needs_background": "light"
          }
        }
      ]
    },
    {
      "cell_type": "code",
      "metadata": {
        "id": "ec_TSRSPMhRh",
        "outputId": "e62b39cb-5f25-4773-ffd7-fee85fa385d1",
        "colab": {
          "base_uri": "https://localhost:8080/",
          "height": 358
        }
      },
      "source": [
        "# Python Ex 3.5\n",
        "f = lambda x: np.exp(3*np.sin(x)+2*np.cos(x)+x**3)\n",
        "g = lambda x: np.exp(3*np.sin(x)+2*np.cos(x)+x**3)*(3*np.cos(x)-2*np.sin(x)+3*np.square(x))\n",
        "plt.plot(x_range, [f(x) for x in x_range])\n",
        "plt.plot(x_range, [g(x) for x in x_range])\n",
        "plt.xlim((-10,10))\n",
        "plt.ylim((-10,40))"
      ],
      "execution_count": 798,
      "outputs": [
        {
          "output_type": "stream",
          "text": [
            "/usr/local/lib/python3.6/dist-packages/ipykernel_launcher.py:2: RuntimeWarning: overflow encountered in exp\n",
            "  \n",
            "/usr/local/lib/python3.6/dist-packages/ipykernel_launcher.py:3: RuntimeWarning: overflow encountered in exp\n",
            "  This is separate from the ipykernel package so we can avoid doing imports until\n"
          ],
          "name": "stderr"
        },
        {
          "output_type": "execute_result",
          "data": {
            "text/plain": [
              "(-10.0, 40.0)"
            ]
          },
          "metadata": {
            "tags": []
          },
          "execution_count": 798
        },
        {
          "output_type": "display_data",
          "data": {
            "image/png": "[encoded data removed]",
            "text/plain": [
              "<Figure size 432x288 with 1 Axes>"
            ]
          },
          "metadata": {
            "tags": [],
            "needs_background": "light"
          }
        }
      ]
    },
    {
      "cell_type": "code",
      "metadata": {
        "id": "6bjUdecqMiGi",
        "outputId": "26eefd46-969f-4903-c01a-976651484dc8",
        "colab": {
          "base_uri": "https://localhost:8080/",
          "height": 287
        }
      },
      "source": [
        "# Python Ex 3.6\n",
        "f = lambda x: -0.5*(2-np.exp(-x**2))**2\n",
        "g = lambda x: -(2-np.exp(-x**2)*(x))*np.exp(-x**2)*(x)\n",
        "plt.plot(x_range, [f(x) for x in x_range])\n",
        "plt.plot(x_range, [g(x) for x in x_range])\n",
        "plt.xlim((-10,10))\n",
        "plt.ylim((-10,40))\n"
      ],
      "execution_count": 799,
      "outputs": [
        {
          "output_type": "execute_result",
          "data": {
            "text/plain": [
              "(-10.0, 40.0)"
            ]
          },
          "metadata": {
            "tags": []
          },
          "execution_count": 799
        },
        {
          "output_type": "display_data",
          "data": {
            "image/png": "[encoded data removed]",
            "text/plain": [
              "<Figure size 432x288 with 1 Axes>"
            ]
          },
          "metadata": {
            "tags": [],
            "needs_background": "light"
          }
        }
      ]
    },
    {
      "cell_type": "code",
      "metadata": {
        "id": "K3EC5KAzMiqw",
        "outputId": "825477c4-3089-413b-e680-1e4c02f693dc",
        "colab": {
          "base_uri": "https://localhost:8080/",
          "height": 287
        }
      },
      "source": [
        "# Python Ex 3.7\n",
        "f = lambda x: np.exp(np.cos(np.exp(-x**2)*(x)))\n",
        "g = lambda x:-np.sin(np.exp(-x**2)*(x))*np.exp(-x**2)*(x)\n",
        "plt.plot(x_range, [f(x) for x in x_range])\n",
        "plt.plot(x_range, [g(x) for x in x_range])\n",
        "plt.xlim((-10,10))\n",
        "plt.ylim((-10,40))"
      ],
      "execution_count": 800,
      "outputs": [
        {
          "output_type": "execute_result",
          "data": {
            "text/plain": [
              "(-10.0, 40.0)"
            ]
          },
          "metadata": {
            "tags": []
          },
          "execution_count": 800
        },
        {
          "output_type": "display_data",
          "data": {
            "image/png": "[encoded data removed]",
            "text/plain": [
              "<Figure size 432x288 with 1 Axes>"
            ]
          },
          "metadata": {
            "tags": [],
            "needs_background": "light"
          }
        }
      ]
    },
    {
      "cell_type": "code",
      "metadata": {
        "id": "jOlm_yghMjdP",
        "outputId": "4b3102a5-3cf1-44f2-bbfd-ebf6ddd4563a",
        "colab": {
          "base_uri": "https://localhost:8080/",
          "height": 283
        }
      },
      "source": [
        "# Python Ex 3.8\n",
        "f = lambda x: np.log(np.exp(-x**2))\n",
        "g = lambda x: (-2*x*np.exp(-x**2)) / abs(np.exp(-x**2))\n",
        "\n",
        "plt.plot(x_range, [f(x) for x in x_range])\n",
        "plt.plot(x_range, [g(x) for x in x_range])\n"
      ],
      "execution_count": 801,
      "outputs": [
        {
          "output_type": "execute_result",
          "data": {
            "text/plain": [
              "[<matplotlib.lines.Line2D at 0x7f5f02779ef0>]"
            ]
          },
          "metadata": {
            "tags": []
          },
          "execution_count": 801
        },
        {
          "output_type": "display_data",
          "data": {
            "image/png": "[encoded data removed]",
            "text/plain": [
              "<Figure size 432x288 with 1 Axes>"
            ]
          },
          "metadata": {
            "tags": [],
            "needs_background": "light"
          }
        }
      ]
    },
    {
      "cell_type": "markdown",
      "metadata": {
        "id": "dHjL70_dhd27"
      },
      "source": [
        "\n",
        "### Solved exercise 4\n",
        "Find the derivative of the following function:\n",
        "\n",
        "$$\n",
        "f(x) = \\Gamma(x)^{\\phi(x)}\n",
        "$$ \n",
        "\n",
        "where $\\Gamma(x)$ is a function with derivative $\\Gamma'(x)$ and $\\phi(x)$ is a function with derivative.\n",
        "First of all, we can rewruite this function by applying an exponential followed by a logarith and then use the following property of the log:\n",
        "\n",
        "$$\n",
        "\\log(x^k) = k \\log(x)\n",
        "$$\n",
        "\n",
        "if we do that, we get:\n",
        "\n",
        "$$\n",
        "\\Gamma(x)^{\\phi(x)} = \\exp{\\left(\\log(\\Gamma(x)^{\\phi(x)})\\right)} = \\exp{\\left(\\phi(x) \\log(\\Gamma(x))\\right)} \n",
        "$$\n",
        "\n",
        "We can now take the derivative using the chain rule:\n",
        "\n",
        "$$\n",
        "\\frac{\\text{d} \\Gamma(x)^{\\phi(x)} }{\\text{d}y} = \\frac{\\text{d} \\exp{\\left(\\phi(x) \\log(\\Gamma(x))\\right)} }{\\text{d}y} = \\exp{\\left(\\phi(x) \\log(\\Gamma(x))\\right)} \\left(\\phi'(x) \\log{\\Gamma(x) + \\phi(x) \\frac{\\Gamma'(x)}{|\\Gamma(x)|}} \\right)\n",
        "$$\n",
        "\n",
        "## Numerical approximation of the derivative\n",
        "\n",
        "So far, we computed the derivative using analytical techniques. We will now learn how to approximate the derivative numerically using python using finite differences. Remember that the derivative is defined as:\n",
        "\n",
        "$$\n",
        "\\frac{\\text{d}f(x)}{\\text{d}x} = \\lim_{\\text{d}x \\rightarrow 0} \\frac{f(x + \\text{d}x) - f(x)}{\\text{d}x} \n",
        "$$\n",
        "\n",
        "Therefore, we can approximate the derivative as\n",
        "\n",
        "$$\n",
        "\\frac{\\text{d}f(x)}{\\text{d}x} \\approx \\frac{f(x + \\text{d}x) - f(x)}{\\text{d}x}\n",
        "$$\n",
        "\n",
        "where $\\text{d}x$ is a very small number.\n",
        "\n",
        "We can implement this in Python as follows:"
      ]
    },
    {
      "cell_type": "code",
      "metadata": {
        "id": "EqZa13O5m3Hn",
        "outputId": "eea4692e-1955-490a-a4e7-62fecb710297",
        "colab": {
          "base_uri": "https://localhost:8080/",
          "height": 283
        }
      },
      "source": [
        "import numpy as np\n",
        "import matplotlib.pyplot as plt\n",
        "\n",
        "dx = 0.1\n",
        "x_range = np.arange(-np.pi, np.pi, dx)\n",
        "f = lambda x: np.sin(x)\n",
        "\n",
        "df_x = [(f(x + dx) - f(x))/dx for x in x_range]\n",
        "\n",
        "plt.plot(x_range, f(x_range), label=\"f(x)\")\n",
        "plt.plot(x_range, df_x, label=\"Approximate df(x)/dx\")\n",
        "plt.legend(loc=\"best\")"
      ],
      "execution_count": 802,
      "outputs": [
        {
          "output_type": "execute_result",
          "data": {
            "text/plain": [
              "<matplotlib.legend.Legend at 0x7f5f02111ef0>"
            ]
          },
          "metadata": {
            "tags": []
          },
          "execution_count": 802
        },
        {
          "output_type": "display_data",
          "data": {
            "image/png": "[encoded data removed]",
            "text/plain": [
              "<Figure size 432x288 with 1 Axes>"
            ]
          },
          "metadata": {
            "tags": [],
            "needs_background": "light"
          }
        }
      ]
    },
    {
      "cell_type": "markdown",
      "metadata": {
        "id": "Uxlg-Ww3P3Uj"
      },
      "source": [
        "### Python exercises 4\n",
        "\n",
        "Use Python to approximately compute the derivitive of \n",
        "\n",
        "$$f(x) = \\cos \\left(x^{2(1.5 + \\sin(x))} + x^3\\right)$$\n",
        "\n",
        "from $0$ to $\\pi$. Compare the result with the derivative computed using the chain rule. Compute the average root squared error between real derivative and approximation for $\\text{d}t$ equal to $0.5$, $0.1$, $0.01$ and $0.001$. Do you expect the error to get small as $\\text{d}t$ gets smaller?"
      ]
    },
    {
      "cell_type": "code",
      "metadata": {
        "id": "zaPCTFolMtHF",
        "outputId": "b7467b90-8098-4906-9c2c-a2fb50e3c2e6",
        "colab": {
          "base_uri": "https://localhost:8080/",
          "height": 88
        }
      },
      "source": [
        "# Python Ex 4\n",
        "for i in [0.5, 0.1, 0.01, 0.001]:\n",
        "  dt = i\n",
        "  x_range = np.arange(0, np.pi, i)\n",
        "  f = lambda x: np.cos(x**2*(1.5 + np.sin(x)) + x**3)\n",
        "  df_x = [(f(x + dt)-f(x))/ dt for x in x_range]\n",
        "  filled_predictables = [dt]*len(df_x)\n",
        "  print('The mean squared error between f(x) and the dt({}) =' .format(dt) + str(np.square(np.subtract(df_x, filled_predictables)).mean()))\n"
      ],
      "execution_count": 803,
      "outputs": [
        {
          "output_type": "stream",
          "text": [
            "The mean squared error between f(x) and the dt(0.5) =5.292052091667878\n",
            "The mean squared error between f(x) and the dt(0.1) =91.64096156543314\n",
            "The mean squared error between f(x) and the dt(0.01) =151.18489942246865\n",
            "The mean squared error between f(x) and the dt(0.001) =150.36439868111194\n"
          ],
          "name": "stdout"
        }
      ]
    }
  ]
}