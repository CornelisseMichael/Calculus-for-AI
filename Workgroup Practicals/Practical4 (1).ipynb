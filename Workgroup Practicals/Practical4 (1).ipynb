{
  "nbformat": 4,
  "nbformat_minor": 0,
  "metadata": {
    "colab": {
      "name": "Practical4.ipynb",
      "provenance": [],
      "collapsed_sections": []
    },
    "kernelspec": {
      "display_name": "Python 3",
      "language": "python",
      "name": "python3"
    },
    "language_info": {
      "codemirror_mode": {
        "name": "ipython",
        "version": 3
      },
      "file_extension": ".py",
      "mimetype": "text/x-python",
      "name": "python",
      "nbconvert_exporter": "python",
      "pygments_lexer": "ipython3",
      "version": "3.8.3"
    }
  },
  "cells": [
    {
      "cell_type": "markdown",
      "metadata": {
        "id": "gsCS0l1iQUVx"
      },
      "source": [
        "# Practical 4: Optimization\n",
        "\n",
        "In the lecture, we developed a simple recepit for finding and identifying maxima and minima of a function:\n",
        "1) Compute the derivative\n",
        "2) Set the derivative equal to zero and solve for $x$. The solutions are the critical points.\n",
        "3) Compute the second derivative at the critical points. If it is positive the point is a point of (local) minimum while if it is negative it is a point of (local) maximum.\n",
        "\n",
        "### Solved exercise 1\n",
        "Find the points of local minimum and local maximum of the following function:\n",
        "\n",
        "$$\n",
        "f(x) = \\exp(x) \\left( x^2 - x + 1 \\right)\n",
        "$$\n",
        "\n",
        "### Solution\n",
        "Step one: Compute the derivative:\n",
        "$$\n",
        "\\frac{\\text{d} f}{\\text{d} x} = \\exp(x) \\left(x^2 + x\\right)\n",
        "$$\n",
        "Step two: Solve for the critical points:\n",
        "\n",
        "$$\n",
        "\\exp(x) \\left(x^2 + x\\right) = 0\n",
        "$$\n",
        "\n",
        "The exponential is always positive, therefore we can divide both sides:\n",
        "\n",
        "$$\n",
        "x^2 + x = 0\n",
        "$$\n",
        "\n",
        "This equation is solved by $x_1 = 0$ and $x_2 = -1$.\n",
        "\n",
        "Step three: Let's compute the second derivative:\n",
        "\n",
        "$$\n",
        "\\frac{\\text{d}^2 f}{\\text{d} x^2} = \\frac{\\text{d}}{\\text{d} x} \\left( \\frac{\\text{d} f}{\\text{d} x} \\right) = \\frac{\\text{d}}{\\text{d} x} \\left( \\exp(x) \\left(x^2 + x\\right) \\right) = \\exp(x) \\left( x^2 + 3x + 1 \\right)\n",
        "$$\n",
        "\n",
        "We can now evaluate the second derivative at the critical points. For $x_1$ we get\n",
        "\n",
        "\n",
        "$$\n",
        "\\frac{\\text{d}^2 f(0)}{\\text{d} x^2} = \\exp(0) \\left(0 + 3 \\times 0 + 1\\right) = 1 \n",
        "$$\n",
        "\n",
        "therefore $x_1$ is a point of minimum. On the other hand, for $x_2$ we get\n",
        "\n",
        "$$\n",
        "\\frac{\\text{d}^2 f(0)}{\\text{d} x^2} = \\exp(-1) \\left(1 - 3 + 1\\right) = -e^{-1}  \n",
        "$$\n",
        "\n",
        "which is negative, therefore $x_2$ is a point of local maximum.\n",
        "\n",
        "### Solved Python exercise 1\n",
        "Validate these results by plotting the function between $-2$ and $0.5$ using Python.\n",
        "\n",
        "#### Solution"
      ]
    },
    {
      "cell_type": "code",
      "metadata": {
        "id": "eRZhCWipfLMN",
        "outputId": "796531b6-1fd1-400e-cd4c-8d880e8832fe",
        "colab": {
          "base_uri": "https://localhost:8080/",
          "height": 286
        }
      },
      "source": [
        "import numpy as np\n",
        "import matplotlib.pyplot as plt\n",
        "\n",
        "f = lambda x: np.exp(x)*(x**2 - x + 1)\n",
        "x_range = np.linspace(-2,0.5,100)\n",
        "x1 = 0.\n",
        "x2 = -1.\n",
        "\n",
        "plt.plot(x_range, f(x_range))\n",
        "plt.axvline(x=x1, c=\"k\", ls=\"--\", label = \"x1\")\n",
        "plt.axvline(x=x2, c=\"r\", ls=\"--\", label = \"x2\")\n",
        "plt.legend(loc=\"best\")"
      ],
      "execution_count": null,
      "outputs": [
        {
          "output_type": "execute_result",
          "data": {
            "text/plain": [
              "<matplotlib.legend.Legend at 0x7f86e64fc550>"
            ]
          },
          "metadata": {
            "tags": []
          },
          "execution_count": 1
        },
        {
          "output_type": "display_data",
          "data": {
            "image/png": "[encoded data removed]",
            "text/plain": [
              "<Figure size 432x288 with 1 Axes>"
            ]
          },
          "metadata": {
            "tags": [],
            "needs_background": "light"
          }
        }
      ]
    },
    {
      "cell_type": "markdown",
      "metadata": {
        "id": "CxfwvD3jMllc"
      },
      "source": [
        "### Exercises 1\n",
        "Find the points of local maxima and minima of the following functions:\n",
        "- $f(x) = x^3 - x^2 + 4$\n",
        "- $f(x) = e^{2x} \\left(x^2 - x \\right)$\n",
        "- $f(x) = \\exp(-0.5 (x - 3)^2)$\n",
        "- $f(x) = \\exp(-x^2) x $\n",
        "- $f(x) = -(a - x b)^2 - 0.5 c x^2$ (where $a$, $b$ are numbers and $c$ is a positive number)\n",
        "\n",
        "#### Solutions\n",
        "- $3x^2 - 2x = 0, x = 0, 3x = 2x, x = 2/3, x_1 = 0$ (local maximum) and $x_2 = 2/3$ (local minimum)\n",
        "- $x_1 = -1/\\sqrt{2}$ (local maximum) and $x_2 = 1/\\sqrt{2}$ (local minimum)\n",
        "- $x_1 = 3$ (local maximum)\n",
        "- $x_1 = -1/\\sqrt{2}$ (local minimum) and $x_2 = 1/\\sqrt{2}$ (local maximum)\n",
        "- $x_1 = ab/(b^2 + c)$  (local maximum)"
      ]
    },
    {
      "cell_type": "markdown",
      "metadata": {
        "id": "Vi01-P-QMllg"
      },
      "source": [
        "> Exercise 1A\n",
        "$$\n",
        "f(x) = x^{3} - x^{2} + 4\\\\\n",
        "$$\n",
        "$$\n",
        "\\frac{\\text{d} f(x)} {\\text{d} x} = 3x^2 - 2x\\\\\n",
        "$$\n",
        "$$\n",
        "3x^2 - 2x = 0\\\\\n",
        "$$\n",
        "$$\n",
        "x(3x -2) = 0\\\\\n",
        "$$\n",
        "$$\n",
        "x = 0\\ \\text{or}\\ 3x - 2 = 0 \\\\\n",
        "$$\n",
        "$$\n",
        "\\frac{\\text{d}^{2} f(x)} {\\text{d} x} = 6x-2\\\\\n",
        "$$\n",
        "$$\n",
        "\\frac{\\text{d}^{2} f(0)} {\\text{d} x} = 6 \\cdot 0 -2 = -2\\\\\n",
        "$$\n",
        "$$\n",
        "\\frac{\\text{d}^{2} f(\\frac{2}{3})} {\\text{d} x} = 6 \\cdot \\frac{2}{3} - 2 = 4 - 2 = 2\\\\\n",
        "$$\n",
        "\n",
        "\n",
        "\n",
        "\n",
        "\n"
      ]
    },
    {
      "cell_type": "markdown",
      "metadata": {
        "id": "-uKjTH4-Mllj"
      },
      "source": [
        "> Exercise 1B\n",
        "\n",
        "$$f(x) = e^{2x} \\left(x^2 - x \\right)$$\n",
        "\n",
        "$$\n",
        "\\frac{\\text{d} f(x)} {\\text{d} x} = e^{2x} \\cdot 2 \\cdot (x^{2} -x) + e^{2x} \\cdot (2x - 1)\\\\\n",
        "$$\n",
        "\n",
        "\n",
        "$$\n",
        "= e^{2x}(2x - 1)\\\\\n",
        "$$\n",
        "\n",
        "$$\n",
        "e^{2x}(2x - 1) = 0\\\\\n",
        "$$\n",
        "\n",
        "$$\n",
        "e^{2x} \\neq 0\\ \\vee 2x - 1 = 0\\\\\n",
        "$$\n",
        "\n",
        "$$\n",
        "2x - 1 = 0\\\\ \n",
        "$$\n",
        "\n",
        "$$\n",
        "2x = 1\\\\ \n",
        "$$\n",
        "\n",
        "$$\n",
        "x^{2} = \\frac{1}{2}\\\\\n",
        "$$\n",
        "\n",
        "$$\n",
        "x = \\sqrt{\\frac{1}{2}}\\ \\vee\\ x = -\\sqrt{\\frac{1}{2}}\\\\\n",
        "$$\n",
        "\n",
        "\n",
        "$$\n",
        "\\frac{\\text{d}^{2} f(x)} {\\text{d} x} = e^{2x}(2x - 1) \\cdot 2 + e^{2x}\\cdot (4x) \\\\\n",
        "$$\n",
        "\n",
        "$$\n",
        "= e^{2x}(4x+ 4x -2) \\\\\n",
        "$$\n",
        "\n",
        "$$\n",
        "\\frac{\\text{d}^{2} f(\\sqrt{\\frac{1}{2}})} {\\text{d} x} = e^{2(\\sqrt{\\frac{1}{2}})}(4(\\sqrt{\\frac{1}{2}})+ 4(\\sqrt{\\frac{1}{2}}) -2) = e^\\sqrt{2} \\cdot 2 \\sqrt{2} \\\\\n",
        "$$\n",
        "\n",
        "$$\n",
        "\\frac{\\text{d}^{2} f(-\\sqrt{\\frac{1}{2}})} {\\text{d} x} = e^{2(-\\sqrt{\\frac{1}{2}})}(4(-\\sqrt{\\frac{1}{2}})+ 4(\\sqrt{-\\frac{1}{2}}) -2) =  e^{-\\sqrt{2}} \\cdot -2 \\sqrt{2} \\\\\n",
        "$$"
      ]
    },
    {
      "cell_type": "markdown",
      "metadata": {
        "id": "KQs7zg6PMlll"
      },
      "source": [
        "> Exercise 1C\n",
        "$$f(x) = e^{-0.5(x-3)^{2}}\\\\$$\n",
        "$$\n",
        "\\frac{\\text{d} f(x)} {\\text{d} x} = e^{-0.5(x-3)^{2}} \\cdot 0 \\cdot(-x+3)\\\\\n",
        "$$\n",
        "\n",
        "$$\n",
        "= -e^{-0.5(x-3)^{2}}(x-3)\\\\\n",
        "$$\n",
        "\n",
        "\n",
        "$$\n",
        "-e^{-0.5(x-3)^{2}}(x-3) = 0\\\\\n",
        "$$\n",
        "\n",
        "\n",
        "$$\n",
        "-e^{-0.5(x-3)^{2}} \\neq 0\\ \\vee\\ x-3 = 0\\\\\n",
        "$$\n",
        "\n",
        "$$\n",
        "x = 3\\\\\n",
        "$$\n",
        "\n",
        "$$\n",
        "\\frac{\\text{d}^{2} f(x)} {\\text{d} x} = -e^{-0.5(x-3)^{2}}(x-3) \\cdot (x - 3)(x - 3) + -e^{-0.5(x-3)^{2}} \\cdot(-1)\\\\\n",
        "$$\n",
        "\n",
        "$$\n",
        "= e^{-0.5(x-3)^{2}}x^{2}-6e^{-0.5(x-3)^{2}}x + 8e^{-0.5(x-3)^{2}}\n",
        "$$\n",
        "\n",
        "$$\n",
        "\\frac{\\text{d}^{2} f(3)} {\\text{d} x} =  e^{-0.5(3-3)^{2}}3^{2}-6e^{-0.5(3-3)^{2}}3 + 8e^{-0.5(3-3)^{2}} = -1 \\\\\n",
        "$$\n"
      ]
    },
    {
      "cell_type": "markdown",
      "metadata": {
        "id": "kMYnjGN0Mllw"
      },
      "source": [
        "> Exercise 1D\n",
        " $$f(x) = e^{-x^{2}} \\cdot x\\\\ $$\n",
        "\n",
        "$$\n",
        "\\frac{\\text{d} f(x)} {\\text{d} x} = (e^{-x^{2}}\\cdot x) \\cdot -2 + 1 \\cdot (e^{-x^{2}}\\cdot x)\\\\\n",
        "$$\n",
        "\n",
        "$$\n",
        "= e^{-x^{2}}(-2x^2+1)\\\\\n",
        "$$\n",
        "\n",
        "$$\n",
        "e^{-x^{2}}(-2x^{2}+1) = 0\\\\\n",
        "$$\n",
        "\n",
        "\n",
        "$$\n",
        "e^{-2x} \\neq 0\\ \\vee -2x^{2}+1 = 0\\\\\n",
        "$$\n",
        "\n",
        "$$\n",
        "-2x^{2} = -1\\\\\n",
        "$$\n",
        "\n",
        "$$\n",
        "x^{2} = \\frac{1}{2}\n",
        "$$\n",
        "\n",
        "$$\n",
        "x = -\\sqrt{\\frac{1}{2}}\\ \\vee\\ x = \\sqrt{\\frac{1}{2}}\\\\\n",
        "$$\n",
        "\n",
        "\n",
        "$$\n",
        "\\frac{\\text{d}^{2} f(x)} {\\text{d} x} = \n",
        "e^{-2x^{2}}\\cdot(e^{x^{2}} -4xe^{x^{2}}-2x(-2x^{2} +1)\\\\\n",
        "$$\n",
        "\n",
        "$$\n",
        "=e^{-x^{2}}(4x^{3} - 6x)\\\\\n",
        "$$\n",
        "\n",
        "$$\n",
        "\\frac{\\text{d}^{2} f(\\sqrt{-\\frac{1}{2}})} {\\text{d} x} = e^{-\\sqrt{-\\frac{1}{2}}^{2}}(4(\\sqrt{-\\frac{1}{2}})^{3} - 6(\\sqrt{-\\frac{1}{2}}) = 2\\sqrt{2e}\\\\\n",
        "$$\n",
        "\n",
        "$$\n",
        "\\frac{\\text{d}^{2} f(\\sqrt{\\frac{1}{2}})} {\\text{d} x} = e^{-\\sqrt{\\frac{1}{2}}^{2}}(4(\\sqrt{\\frac{1}{2}})^{3} - 6(\\sqrt{\\frac{1}{2}})) = -2\\sqrt{2e} \\\\\n",
        "$$\n"
      ]
    },
    {
      "cell_type": "markdown",
      "metadata": {
        "id": "7UUOlKZHMllz"
      },
      "source": [
        "> Exercise 1E\n",
        "$$f(x) = -(a - x b)^2 - 0.5 c x^2$$\n",
        "\n",
        "$$\n",
        "\\frac{\\text{df(x)}}{\\text{dx}} =-2(a-xb)-b -2 \\cdot 0.5cx\\\\\n",
        "$$\n",
        "\n",
        "$$\n",
        "= 2ab - 2b^{2}x-cx\\\\\n",
        "$$\n",
        "\n",
        "$$\n",
        "= 2ab - (2b^{2} + c)x\\\\\n",
        "$$\n",
        "\n",
        "$$\n",
        " 2ab - (2b^{2} + c)x = 0\\\\\n",
        "$$\n",
        "\n",
        "$$\n",
        "x = \\frac{2ab}{2b^{2}+c}\\\\\n",
        "$$\n",
        "$$\n",
        "\\frac{\\text{d}^{2} f(x)} {\\text{d} x} = -2b^2-c\\\\\n",
        "$$\n",
        "\n",
        "$$\n",
        "\\text{Plug some variables into the equation}\\\\\n",
        "-2(2)^{2}-3= -11\\\\\n",
        "-2(-3)^{2}-3 = -21\\\\\n",
        "\\text{The outcome is always negative}\\\\\n",
        "$$\n",
        "\n",
        "$$\n",
        "\\text{Therefore}\\\\\n",
        "x_{1} = \\frac{2ab}{2b^{2}+c}\\\\\n",
        "\\text{Is a maxima}\n",
        "$$"
      ]
    },
    {
      "cell_type": "markdown",
      "metadata": {
        "id": "mb07IhdjMll3"
      },
      "source": [
        "### Python exercises 1\n",
        "Validate all these results by plotting the functions using Python."
      ]
    },
    {
      "cell_type": "code",
      "metadata": {
        "id": "EZOKHeHYMll5",
        "outputId": "6d7442b9-8617-40a9-b8c9-ea7bb9b13b66",
        "colab": {
          "base_uri": "https://localhost:8080/",
          "height": 282
        }
      },
      "source": [
        "#Exercise 1A\n",
        "f = lambda x: x**3-x**2+4\n",
        "x_range = np.linspace(-0.5,1.2,100)\n",
        "x1 = 0.\n",
        "x2 = 2/3.\n",
        "\n",
        "plt.plot(x_range, f(x_range))\n",
        "plt.axvline(x=x1, c=\"k\", ls=\"--\", label = \"x1\")\n",
        "plt.axvline(x=x2, c=\"r\", ls=\"--\", label = \"x2\")\n",
        "plt.legend(loc=\"best\")"
      ],
      "execution_count": null,
      "outputs": [
        {
          "output_type": "execute_result",
          "data": {
            "text/plain": [
              "<matplotlib.legend.Legend at 0x7f86e64946a0>"
            ]
          },
          "metadata": {
            "tags": []
          },
          "execution_count": 2
        },
        {
          "output_type": "display_data",
          "data": {
            "image/png": "[encoded data removed]",
            "text/plain": [
              "<Figure size 432x288 with 1 Axes>"
            ]
          },
          "metadata": {
            "tags": [],
            "needs_background": "light"
          }
        }
      ]
    },
    {
      "cell_type": "code",
      "metadata": {
        "id": "__wzYtpEMlmD",
        "outputId": "48a83ede-f978-4963-8e99-3deb20dc4838",
        "colab": {
          "base_uri": "https://localhost:8080/",
          "height": 282
        }
      },
      "source": [
        "#Exercise 1B\n",
        "f = lambda x: np.exp(2*x)*(x**2 - x)\n",
        "x_range = np.linspace(-5, 1.2,100)\n",
        "x1 = -1 / np.sqrt(2)\n",
        "x2 = 1 / np.sqrt(2)\n",
        "\n",
        "plt.plot(x_range, f(x_range))\n",
        "plt.axvline(x=x1, c=\"k\", ls=\"--\", label = \"x1\")\n",
        "plt.axvline(x=x2, c=\"r\", ls=\"--\", label = \"x2\")\n",
        "plt.legend(loc=\"best\")"
      ],
      "execution_count": null,
      "outputs": [
        {
          "output_type": "execute_result",
          "data": {
            "text/plain": [
              "<matplotlib.legend.Legend at 0x7f86e376d518>"
            ]
          },
          "metadata": {
            "tags": []
          },
          "execution_count": 3
        },
        {
          "output_type": "display_data",
          "data": {
            "image/png": "[encoded data removed]",
            "text/plain": [
              "<Figure size 432x288 with 1 Axes>"
            ]
          },
          "metadata": {
            "tags": [],
            "needs_background": "light"
          }
        }
      ]
    },
    {
      "cell_type": "code",
      "metadata": {
        "id": "I_ivD2i6MlmM",
        "outputId": "bbbf063a-0092-45bf-de43-737911fe2743",
        "colab": {
          "base_uri": "https://localhost:8080/",
          "height": 282
        }
      },
      "source": [
        "#Exercise 1C\n",
        "f = lambda x: np.exp(-0.5*(x-3)**2)\n",
        "x_range = np.linspace(-0.5, 4, 100)\n",
        "x1 = 3\n",
        "plt.plot(x_range, f(x_range))\n",
        "plt.axvline(x=x1, c=\"k\", ls=\"--\", label = \"x1\")\n",
        "plt.legend(loc=\"best\")"
      ],
      "execution_count": null,
      "outputs": [
        {
          "output_type": "execute_result",
          "data": {
            "text/plain": [
              "<matplotlib.legend.Legend at 0x7f86e36e0978>"
            ]
          },
          "metadata": {
            "tags": []
          },
          "execution_count": 4
        },
        {
          "output_type": "display_data",
          "data": {
            "image/png": "[encoded data removed]",
            "text/plain": [
              "<Figure size 432x288 with 1 Axes>"
            ]
          },
          "metadata": {
            "tags": [],
            "needs_background": "light"
          }
        }
      ]
    },
    {
      "cell_type": "code",
      "metadata": {
        "id": "6aRl0YQCMlmU",
        "outputId": "d43a63df-5495-4ef6-f960-a851a512c7d7",
        "colab": {
          "base_uri": "https://localhost:8080/",
          "height": 282
        }
      },
      "source": [
        "#Exercise 1D\n",
        "f = lambda x: np.exp(-x**2)*x\n",
        "x_range = np.linspace(-5, 1.2,100)\n",
        "x1 = -1 / np.sqrt(2)\n",
        "x2 = 1 / np.sqrt(2)\n",
        "\n",
        "plt.plot(x_range, f(x_range))\n",
        "plt.axvline(x=x1, c=\"k\", ls=\"--\", label = \"x1\")\n",
        "plt.axvline(x=x2, c=\"r\", ls=\"--\", label = \"x2\")\n",
        "plt.legend(loc=\"best\")"
      ],
      "execution_count": null,
      "outputs": [
        {
          "output_type": "execute_result",
          "data": {
            "text/plain": [
              "<matplotlib.legend.Legend at 0x7f86e3648f98>"
            ]
          },
          "metadata": {
            "tags": []
          },
          "execution_count": 5
        },
        {
          "output_type": "display_data",
          "data": {
            "image/png": "[encoded data removed]",
            "text/plain": [
              "<Figure size 432x288 with 1 Axes>"
            ]
          },
          "metadata": {
            "tags": [],
            "needs_background": "light"
          }
        }
      ]
    },
    {
      "cell_type": "code",
      "metadata": {
        "id": "KZzkqz4XMlmZ",
        "outputId": "bced6796-5c5e-4595-c4c5-340fec904b01",
        "colab": {
          "base_uri": "https://localhost:8080/",
          "height": 282
        }
      },
      "source": [
        "#Exercise 1E\n",
        "f = lambda x: -(2 - x*4) * 2 - 0.5 *3 *x**2\n",
        "x_range = np.linspace(-10, 10 ,100)\n",
        "x1 = 2*4 / (4**2 + 3)\n",
        "plt.plot(x_range, f(x_range))\n",
        "plt.axvline(x=x1, c=\"k\", ls=\"--\", label = \"x1\")\n",
        "plt.legend(loc=\"best\")"
      ],
      "execution_count": null,
      "outputs": [
        {
          "output_type": "execute_result",
          "data": {
            "text/plain": [
              "<matplotlib.legend.Legend at 0x7f86e35c33c8>"
            ]
          },
          "metadata": {
            "tags": []
          },
          "execution_count": 6
        },
        {
          "output_type": "display_data",
          "data": {
            "image/png": "[encoded data removed]",
            "text/plain": [
              "<Figure size 432x288 with 1 Axes>"
            ]
          },
          "metadata": {
            "tags": [],
            "needs_background": "light"
          }
        }
      ]
    },
    {
      "cell_type": "markdown",
      "metadata": {
        "id": "5y3OyftYgYou"
      },
      "source": [
        "## Steepest descent (Also known as gradient descent)\n",
        "Very often you cannot solve the equation is Step II exactly. In this case, we can use a numerical method to find an approximate solution. The simplest of these methods is the steepest descent method.\n",
        "The idea is to start at an arbitrary point, then to compute the derivative and \"make a step\" in the direction of the derivative if we want to find a maximum and against the direction of the derivitive if we want to find a minimum. We can write this in formulas as follows:\n",
        "\n",
        "$$\n",
        "x_{n+1} = x_n - \\eta \\frac{\\text{d} f(x_n)}{\\text{d}x}\n",
        "$$\n",
        "\n",
        "where $\\eta$ is a small positive number (or a small negative number if we want to find a local maximum). Since the derivative is zero in a local minimum (and maximum), these points are the fixed points of the steepest descent update. It is easy to see that this update rule will move you towards one of these fixed points as far as the learning rate $\\eta$ is small enough.\n",
        "\n",
        "### Solved exercise 2\n",
        "Find the steepest descent update rule for the following function:\n",
        "\n",
        "$$\n",
        "f(x) = e^{\\sum_{k=-2}^{10} k \\sin(k^2 x)}\n",
        "$$\n",
        "\n",
        "#### Solution\n",
        "The derivative of this function is\n",
        "\n",
        "$$\n",
        "\\frac{\\text{d} f}{\\text{d} x} = e^{\\sum_{k=-2}^{10} k \\sin(k^2 x)} \\sum_{k=-2}^{10} k^3 \\cos(k^2 x)\n",
        "$$\n",
        "\n",
        "therefore, the update rule is\n",
        "\n",
        "$$\n",
        "x_{n+1} = x_n - \\eta e^{\\sum_{k=-2}^{10} k \\sin(k^2 x_n)} \\sum_{k=-2}^{10} k^3 \\cos(k^2 x_n)\n",
        "$$\n",
        "\n",
        "### Exercises 2\n",
        "Find the steepest descent update rule for the following functions:\n",
        "- $f(x) = \\exp(-x^2 + x^3) \\left( x^4 - x^3 + 5x +6 \\right)$\n",
        "- $f(x) = \\sum_{k = 1}^5 e^{-(x - k)^2}$\n",
        "- $f(x) = \\exp(\\sum_{k = 1}^{-5} e^{-(x - k)^2} \\cos(k x)) $"
      ]
    },
    {
      "cell_type": "markdown",
      "metadata": {
        "id": "A1oG2MpOMlmy"
      },
      "source": [
        "> Exercise 2A\n",
        "$$f(x) = \\exp(-x^2 + x^3) \\left( x^4 - x^3 + 5x +6 \\right)\\\\$$\n",
        "$$\n",
        "\\frac{\\text{d} f}{\\text{d} x} = e^{-x^{2}+x^{3}}\\ -2x + 3x^2\\cdot (x^4 -x^3 + 5x + 6) + e^{-x^{2} + x^{3}} \\cdot (4x^3 - 3x^2 + 5)\\\\\n",
        "$$\n",
        "\n",
        "$$\n",
        "x_{n+1} = x_n - \\eta  = e^{-x^{2} + x^{3}} \\cdot (3x^{6} - 5x^{5} + 2x^{4} +19x^{3} + 5x^{2} -12x + 5)\n",
        "$$"
      ]
    },
    {
      "cell_type": "markdown",
      "metadata": {
        "id": "Tv9SlNstMlmz"
      },
      "source": [
        "> Exercise 2B\n",
        "\n",
        "$$\n",
        "f(x) = \\sum_{k = 1}^5 e^{-(x - k)^2}\\\\\n",
        "$$\n",
        "\n",
        "$$\n",
        "\\frac{\\text{d} f}{\\text{d} x} = e^{(x - k)^{2}}\\cdot (-2(x - k))\\\\\n",
        "$$\n",
        "\n",
        "\n",
        "$$\n",
        "x_{n+1} = x_n - \\eta  =  \\sum_{k = 1}^5 -2e^{-x^{2} + 2kx - k^{2}}(x - k)\n",
        "$$"
      ]
    },
    {
      "cell_type": "markdown",
      "metadata": {
        "id": "773t70TOMlm1"
      },
      "source": [
        "> Exercise 2C\n",
        "$$\n",
        "f(x) = \\exp(\\sum_{k = 1}^{-5} e^{-(x - k)^2} \\cos(k x))\\\\\n",
        "$$\n",
        "\n",
        "$$\n",
        "\\frac{\\text{d} f}{\\text{d} x} = e^{\\sum_{k = 1}^{-5} e^{-(x - k)^2} \\cos(k x))} \\cdot \\sum_{k = 1}^{-5} \\cdot e^{-(x - k)^2} \\cos(k x)) \\cdot (-2(x-k)) \\cdot k + e^{-(x - k)^2} \\cdot (-k\\sin kx)\n",
        "$$\n",
        "\n",
        "$$\n",
        "x_{n+1} = x_n - \\eta  = e^{\\sum_{k = 1}^{-5} e^{-(x - k)^2} \\cos(k x))}\\sum_{k = 1}^{-5}e^{-x^{2}+ 2kx - k^{2}}\\cos(kx)(-2x+2k) -ke^{-x^{2} + 2kx - k^{2}}   \\sin(kx)\n",
        "$$"
      ]
    }
  ]
}